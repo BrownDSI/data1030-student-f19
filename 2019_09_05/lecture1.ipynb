{
 "cells": [
  {
   "cell_type": "markdown",
   "metadata": {
    "slideshow": {
     "slide_type": "slide"
    }
   },
   "source": [
    "# <center>DATA1030: Hands-on Data Science</center>\n",
    "### <center>Instructor: Andras Zsom</center>\n",
    "### <center>Head-TAs: Angie Kim, Mickey Li</center>\n",
    "### <center>TAs: Sunny Deng, Natalie Delworth, EJ Zhu, Liyaan Maskati</center>\n"
   ]
  },
  {
   "cell_type": "markdown",
   "metadata": {
    "slideshow": {
     "slide_type": "slide"
    }
   },
   "source": [
    "## <center>Today</center>\n",
    "### 1) Learning objectives  for the semester\n",
    "### 2) Course focus and components\n",
    "### 3) Grading"
   ]
  },
  {
   "cell_type": "markdown",
   "metadata": {
    "slideshow": {
     "slide_type": "subslide"
    }
   },
   "source": [
    "### 4) Lectures\n",
    "### 5) Problem sets\n",
    "### 6) Office hours\n",
    "### 7) Project"
   ]
  },
  {
   "cell_type": "markdown",
   "metadata": {
    "slideshow": {
     "slide_type": "slide"
    }
   },
   "source": [
    "## <center> Course website: https://data1030.github.io </center>\n",
    "## <center> Course forum: https://piazza.com/brown/fall2019/fall2019data1030s01 </center>\n",
    "\n"
   ]
  },
  {
   "cell_type": "markdown",
   "metadata": {
    "slideshow": {
     "slide_type": "slide"
    }
   },
   "source": [
    "## <center>1) Learning objectives</center>\n",
    "By the end of the semester, you will be able to\n",
    "- Preprocess a dataset,\n",
    "- Perform exploratory data analysis (EDA),\n",
    "- Engineer new features,\n",
    "- Describe pros and cons of various dimensionality reduction techniques,\n",
    "- Select dimensionality reduction technique if it is appropriate for a task,"
   ]
  },
  {
   "cell_type": "markdown",
   "metadata": {
    "slideshow": {
     "slide_type": "subslide"
    }
   },
   "source": [
    "- Compare various supervised ML algorithms and describe their hyper-parameters\n",
    "- Describe evaluation metrics for supervised ML\n",
    "\n",
    "- Select the most appropriate evaluation metric for a task\n",
    "- Summarize the bias-variance tradeoff and potential issues with data leakage\n",
    "- Describe the most common cross-validation techniques\n",
    "- Design a custom cross-validation technique if necessary\n",
    "- Apply various supervised ML algorithms on the data and select the best\n",
    "- Calculate global feature importances and identify most predictive features\n",
    "- Calculate local feature importances to explain the model predictions on an individual sample\n",
    "- Compare unsupervised ML tasks and their goals\n",
    "- Describe the most common issues with deployment and why continuous monitoring is necessary\n"
   ]
  },
  {
   "cell_type": "markdown",
   "metadata": {
    "slideshow": {
     "slide_type": "notes"
    }
   },
   "source": [
    "### Preliminary lecture titles (subject to change)\n",
    "\n",
    "- 09/05/2019 - Course overview and admin\n",
    "- 09/10/2019 - Overview of ML\n",
    "- 09/12/2019 - Data transformations: pandas data frames\n",
    "- 09/17/2019 - Data preprocessing, part 1, categorical and continuous features\n",
    "- 09/19/2019 - Data preprocessing, part 2, missing data\n",
    "- 09/24/2019 - Exploratory data analysis, part 1, EDA in regression and clustering\n",
    "- 09/26/2019 - Exploratory data analysis, part 2, EDA in classification\n",
    "- 10/01/2019 - Dimensionality reduction\n",
    "- 10/03/2019 - Feature engineering\n",
    "- 10/08/2019 - Evaluation metrics in supervised ML, part 1, hard predictions\n",
    "- 10/10/2019 - Evaluation metrics in supervised ML, part 2, soft predictions and regression metrics\n",
    "- 10/15/2019 - Supervised ML algorithms, part 1, Linear and Logistic regression\n",
    "- 10/17/2019 - Supervised ML algorithms, part 2, other ML algorithms\n",
    "- 10/22/2019 (midterm presentations)\n",
    "- 10/24/2019 (midterm presentations)\n",
    "- 10/29/2019 - ML pipelines, part 1, Cross-validation to evaluate model performance\n",
    "- 10/31/2019 - ML pipelines, part 2, hyper-parameter tuning\n",
    "- 11/05/2019 - Missing data revisited \n",
    "- 11/07/2019 - Interpretable ML\n",
    "- 11/12/2019 - Ethical issues in supervised ML\n",
    "- 11/14/2019 - Unsupervised ML\n",
    "- 11/19/2019 - Deployment and continuous monitoring\n",
    "- 11/21/2019 - buffer time\n",
    "- 11/26/2019 - buffer time\n",
    "- 12/03/2019 (final presentations)\n",
    "- 12/05/2019 (final presentations)\n"
   ]
  },
  {
   "cell_type": "markdown",
   "metadata": {
    "slideshow": {
     "slide_type": "slide"
    }
   },
   "source": [
    "## <center>2.1) Course focus </center>\n",
    "\n",
    "#### The focus of this course is on tabular data\n",
    "   - images, time series data, and text are not covered\n",
    "   - having said that, many concepts and techniques you learn here will apply to any type of data\n",
    "   \n",
    "#### We use python tools\n",
    "   - numpy, pandas for data preprocessing and cleaning\n",
    "   - scikit-learn to develop the ML pipeline and to train models\n",
    "   - matplotlib, plotly for visualization\n",
    "   "
   ]
  },
  {
   "cell_type": "markdown",
   "metadata": {
    "slideshow": {
     "slide_type": "subslide"
    }
   },
   "source": [
    "If you are not familiar with python, complete this by next thursday!\n",
    "\n",
    "https://mathigon.org/course/programming-in-python/introduction"
   ]
  },
  {
   "cell_type": "markdown",
   "metadata": {
    "slideshow": {
     "slide_type": "notes"
    }
   },
   "source": [
    "#### Git for version control\n",
    "   - preserve your work\n",
    "   - track the history of changes\n",
    "   - manage versions (e.g., various clients with various requirements)\n",
    "   - teamwork\n",
    "   \n",
    "#### conda/docker/pip for reproducable code\n",
    "   - sharing code via git is usually not enough\n",
    "   - your computing environment needs to be shared too - info on python and package versions \n",
    "   - anaconda and docker makes this easy\n",
    "   - more packages are available on pip but pip can break dependencies"
   ]
  },
  {
   "cell_type": "markdown",
   "metadata": {
    "slideshow": {
     "slide_type": "subslide"
    }
   },
   "source": [
    "## <center>2.2) Course components </center>\n",
    "#### Lectures: active learning\n",
    "   - 10-15 min lectures  interrupted by short group exercises or TopHat questions\n"
   ]
  },
  {
   "cell_type": "markdown",
   "metadata": {
    "slideshow": {
     "slide_type": "notes"
    }
   },
   "source": [
    "<center><img src=\"student_attention_vs_time.png\" width=\"700\"></center>"
   ]
  },
  {
   "cell_type": "markdown",
   "metadata": {
    "slideshow": {
     "slide_type": "subslide"
    }
   },
   "source": [
    "#### Weekly problem sets\n",
    "   - coding problems and questions with short 1-2 paragraph answers\n",
    "\n",
    "#### Two exams\n",
    "\n",
    "#### One semester-long project\n",
    "   - find a dataset and come up with your own machine learning question\n",
    "   - develop code individually, but discuss with others\n",
    "   - assigned TA mentor with regular dedicated meetings\n"
   ]
  },
  {
   "cell_type": "markdown",
   "metadata": {
    "slideshow": {
     "slide_type": "slide"
    }
   },
   "source": [
    "## <center> 3) Grading </center>\n",
    "##### Participation - 10%\n",
    "\n",
    "##### Problem sets - 20%\n",
    "\n",
    "##### Exams - 25%\n",
    "   - two exams: mid-semester and end of semester"
   ]
  },
  {
   "cell_type": "markdown",
   "metadata": {
    "slideshow": {
     "slide_type": "subslide"
    }
   },
   "source": [
    "##### Project - 45%\n",
    "   - Project idea - 20%\n",
    "   - Progress reports - 20% \n",
    "   - Final project presentation - 20% \n",
    "   - Final project report - 40%"
   ]
  },
  {
   "cell_type": "markdown",
   "metadata": {
    "slideshow": {
     "slide_type": "slide"
    }
   },
   "source": [
    "# <center>4) Lectures </center>\n",
    "- cover concepts and introduce you to python packages/functions/methods\n",
    "- slides are in jupyter notebooks running in the Jupyterhub\n",
    "- a couple of small exercises each lecture (either in the notebook or in tophat)"
   ]
  },
  {
   "cell_type": "markdown",
   "metadata": {
    "slideshow": {
     "slide_type": "subslide"
    }
   },
   "source": [
    "## <center> 4.1) Jupyterhub </center>\n",
    "Cloud-based service, a standardized computing environment.\n",
    "\n",
    "https://data.jupyter.brown.edu\n",
    "\n",
    "Manual: https://docs.ccv.brown.edu/jupyterhub/\n",
    "\n",
    "Lecture notes will be available in the hub, and you will solve the problem sets in the hub."
   ]
  },
  {
   "cell_type": "markdown",
   "metadata": {
    "slideshow": {
     "slide_type": "subslide"
    }
   },
   "source": [
    "## <center> 4.2) TopHat </center>\n",
    "Let's take attendance! Please go to https://app.tophat.com/e/245218\n",
    "or use the join code 245218 in the app.\n",
    "\n",
    "Then enter the attendance code you see.\n"
   ]
  },
  {
   "cell_type": "markdown",
   "metadata": {
    "slideshow": {
     "slide_type": "slide"
    }
   },
   "source": [
    "# <center>5) Problem sets</center>\n",
    " - weekly, due on **wednesdays by 10pm**\n",
    " - first problem set is due 18th of September\n",
    " - coding exercises and occasionally short (1-2 paragraph) text answers\n",
    " - github classroom\n",
    " - instructions on loading the repo to the hub and uploading the solutions to  gradescope will come with the github link"
   ]
  },
  {
   "cell_type": "markdown",
   "metadata": {
    "slideshow": {
     "slide_type": "slide"
    }
   },
   "source": [
    "# <center>6) Office hours</center>\n",
    "### TAs:\n",
    "- Monday 6-8pm in 320 (3 TAs)\n",
    "- Tuesday 6-8pm in 320 (4 TAs)\n",
    "- Friday 4-6pm in 329 (2 TAs)\n",
    "\n",
    "### My office hour:\n",
    "- Thursday 3-4pm in 320"
   ]
  },
  {
   "cell_type": "markdown",
   "metadata": {
    "slideshow": {
     "slide_type": "slide"
    }
   },
   "source": [
    "# <center>7) Project</center>\n",
    "- select a dataset and come up with a (supervised) ML question that can be answered with it\n",
    "- work alone but discuss with your TA mentor\n",
    "- work through all steps of the ML pipeline\n",
    "- have a github repository for your project\n",
    "- use conda or docker to create a reproducable code\n"
   ]
  },
  {
   "cell_type": "markdown",
   "metadata": {
    "slideshow": {
     "slide_type": "subslide"
    }
   },
   "source": [
    "### <center> 7.1) Important deadlines </center>\n",
    "\n",
    "##### Project idea - Be creative!\n",
    "Prepare a short document (1-2 pages max) that describes\n",
    "   - The problem you want to solve with machine learning. Why is it important/interesting?\n",
    "   - What type of problem is it? Classification, regression, etc?\n",
    "   - The data you will use. Tabular data is preferred. What data fields do you have? How many data points? Do you have missing data? Is there time-dependence in the data? Is the data on humans?\n",
    "\n",
    "Hand in first draft to your TA mentor by 24th of September. Final draft is due by 1st of October."
   ]
  },
  {
   "cell_type": "markdown",
   "metadata": {
    "slideshow": {
     "slide_type": "subslide"
    }
   },
   "source": [
    "##### Data preprocessing and first progress report\n",
    "October 1st to October 21st\n",
    "\n",
    "##### Mid-term presentations\n",
    "October 22 and 24\n",
    "\n",
    "##### The ML pipeline and final report\n",
    "November 14 - discuss initial results with TA mentor\n",
    "\n",
    "December 2 - final report is due \n",
    "\n",
    "##### Final presentations\n",
    "December 3 and 5"
   ]
  },
  {
   "cell_type": "markdown",
   "metadata": {
    "slideshow": {
     "slide_type": "subslide"
    }
   },
   "source": [
    "\n",
    "Clear README in the github repo is important!\n",
    "\n",
    "Recommended directory structure:\n",
    "```\n",
    ".\n",
    "├── data/\n",
    "├── figures/\n",
    "├── results/  \n",
    "├── reports/\n",
    "├── src/\n",
    "├── .gitignore\n",
    "├── LICENSE\n",
    "└── README.md\n",
    "```\n",
    "Add yaml file for conda; or Dockerfile and requirements.txt for docker. "
   ]
  },
  {
   "cell_type": "markdown",
   "metadata": {
    "slideshow": {
     "slide_type": "slide"
    }
   },
   "source": [
    "# <center>Questions or comments?</center>"
   ]
  },
  {
   "cell_type": "code",
   "execution_count": null,
   "metadata": {},
   "outputs": [],
   "source": []
  }
 ],
 "metadata": {
  "celltoolbar": "Slideshow",
  "kernelspec": {
   "display_name": "Python 3",
   "language": "python",
   "name": "python3"
  },
  "language_info": {
   "codemirror_mode": {
    "name": "ipython",
    "version": 3
   },
   "file_extension": ".py",
   "mimetype": "text/x-python",
   "name": "python",
   "nbconvert_exporter": "python",
   "pygments_lexer": "ipython3",
   "version": "3.6.7"
  }
 },
 "nbformat": 4,
 "nbformat_minor": 2
}
