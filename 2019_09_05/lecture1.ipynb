{
 "cells": [
  {
   "cell_type": "markdown",
   "metadata": {
    "slideshow": {
     "slide_type": "slide"
    }
   },
   "source": [
    "# <center>DATA1030: Hands-on Data Science</center>\n",
    "## <center>Andras Zsom</center>\n",
    "## <center>Please go to https://data.jupyter.brown.edu</center>\n"
   ]
  },
  {
   "cell_type": "markdown",
   "metadata": {
    "slideshow": {
     "slide_type": "slide"
    }
   },
   "source": [
    "## <center>Today</center>\n",
    "### 1) Learning objectives  for the semester\n",
    "### 2) Course focus and structure\n",
    "### 3) Grading"
   ]
  },
  {
   "cell_type": "markdown",
   "metadata": {
    "slideshow": {
     "slide_type": "subslide"
    }
   },
   "source": [
    "### 4) Lecture slides: JupyterHub\n",
    "### 5) In-class questions: TopHat\n",
    "### 6) Course announcements and forum discussion: Piazza\n",
    "### 7) Problem sets: github classroom\n",
    "### 8) Semester-long assignments: your choice"
   ]
  },
  {
   "cell_type": "markdown",
   "metadata": {
    "slideshow": {
     "slide_type": "slide"
    }
   },
   "source": [
    "## <center>1) Learning objectives</center>\n",
    "By the end of the semester, you will be able to\n",
    "- Preprocess a dataset,\n",
    "- Perform exploratory data analysis (EDA),\n",
    "- Engineer new features,\n",
    "- Describe pros and cons of various dimensionality reduction techniques,\n",
    "- Select dimensionality reduction technique if it is appropriate for a task,\n",
    "- Compare various supervised ML algorithms and describe their hyper-parameters\n",
    "- Describe evaluation metrics for supervised ML"
   ]
  },
  {
   "cell_type": "markdown",
   "metadata": {
    "slideshow": {
     "slide_type": "subslide"
    }
   },
   "source": [
    "- Select the most appropriate evaluation metric for a task\n",
    "- Summarize the bias-variance tradeoff and potential issues with data leakage\n",
    "- Describe the most common cross-validation techniques\n",
    "- Design a custom cross-validation technique if necessary\n",
    "- Apply various supervised ML algorithms on the data and select the best\n",
    "- Calculate global feature importances and identify most predictive features\n",
    "- Calculate local feature importances to explain the model predictions on an individual sample\n",
    "- Compare unsupervised ML tasks and their goals\n",
    "- Describe the most common issues with deployment and why continuous monitoring is necessary\n"
   ]
  },
  {
   "cell_type": "markdown",
   "metadata": {
    "slideshow": {
     "slide_type": "subslide"
    }
   },
   "source": [
    "### Preliminary lecture titles (subject to change)\n",
    "\n",
    "- 09/05/2019 - Course overview and admin\n",
    "- 09/10/2019 - Overview of ML\n",
    "- 09/12/2019 - Data transformations: pandas data frames\n",
    "- 09/17/2019 - Data preprocessing, part 1, categorical and continuous features\n",
    "- 09/19/2019 - Data preprocessing, part 2, missing data\n",
    "- 09/24/2019 - Exploratory data analysis, part 1, EDA in regression and clustering\n",
    "- 09/26/2019 - Exploratory data analysis, part 2, EDA in classification\n",
    "- 10/01/2019 - Dimensionality reduction\n",
    "- 10/03/2019 - Feature engineering\n",
    "- 10/08/2019 - Evaluation metrics in supervised ML, part 1, hard predictions\n",
    "- 10/10/2019 - Evaluation metrics in supervised ML, part 2, soft predictions and regression metrics\n",
    "- 10/15/2019 - Supervised ML algorithms, part 1, Linear and Logistic regression\n",
    "- 10/17/2019 - Supervised ML algorithms, part 2, other ML algorithms\n",
    "- 10/22/2019 (midterm presentations)\n",
    "- 10/24/2019 (midterm presentations)\n",
    "- 10/29/2019 - ML pipelines, part 1, Cross-validation to evaluate model performance\n",
    "- 10/31/2019 - ML pipelines, part 2, hyper-parameter tuning\n",
    "- 11/05/2019 - Missing data revisited \n",
    "- 11/07/2019 - Interpretable ML\n",
    "- 11/12/2019 - Ethical issues in supervised ML\n",
    "- 11/14/2019 - Unsupervised ML\n",
    "- 11/19/2019 - Deployment and continuous monitoring\n",
    "- 11/21/2019 - buffer time\n",
    "- 11/26/2019 - buffer time\n",
    "- 12/03/2019 (final presentations)\n",
    "- 12/05/2019 (final presentations)\n"
   ]
  },
  {
   "cell_type": "markdown",
   "metadata": {
    "slideshow": {
     "slide_type": "slide"
    }
   },
   "source": [
    "## <center>2.1) Course focus </center>\n",
    "\n",
    "#### The focus of this course is on tabular data\n",
    "   - images, time series data, and text are not covered\n",
    "   - having said that, many concepts and techniques you learn here will apply to any type of data\n",
    "   \n",
    "#### We use python tools\n",
    "   - numpy, pandas for data preprocessing and cleaning\n",
    "   - scikit-learn to develop the ML pipeline and to train models\n",
    "   - matplotlib, plotly for visualization"
   ]
  },
  {
   "cell_type": "markdown",
   "metadata": {
    "slideshow": {
     "slide_type": "subslide"
    }
   },
   "source": [
    "#### Git for version control\n",
    "   - preserve your work\n",
    "   - track the history of changes\n",
    "   - manage versions (e.g., various clients with various requirements)\n",
    "   - teamwork\n",
    "   \n",
    "#### conda/docker/pip for reproducable code\n",
    "   - sharing code via git is usually not enough\n",
    "   - your computing environment needs to be shared too - info on python and package versions \n",
    "   - anaconda and docker makes this easy\n",
    "   - more packages are available on pip but pip can break dependencies"
   ]
  },
  {
   "cell_type": "markdown",
   "metadata": {
    "slideshow": {
     "slide_type": "subslide"
    }
   },
   "source": [
    "## <center>2.2) Course structure </center>\n",
    "#### Lectures: active learning\n",
    "   - 10-15 min lectures  interrupted by short group exercises or TopHat questions\n"
   ]
  },
  {
   "cell_type": "markdown",
   "metadata": {
    "slideshow": {
     "slide_type": "subslide"
    }
   },
   "source": [
    "<center><img src=\"student_attention_vs_time.png\" width=\"700\"></center>"
   ]
  },
  {
   "cell_type": "markdown",
   "metadata": {
    "slideshow": {
     "slide_type": "subslide"
    }
   },
   "source": [
    "#### Weekly problem sets\n",
    "   - coding problems and questions with short 1-2 paragraph answers\n",
    "\n",
    "#### Two exams during the semester\n",
    "\n",
    "#### One semester-long project\n",
    "   - develop code individually, but feel free to discuss with others\n",
    "   - pre-proposal by the end of September\n",
    "   - work closely with a mentor TA"
   ]
  },
  {
   "cell_type": "markdown",
   "metadata": {
    "slideshow": {
     "slide_type": "slide"
    }
   },
   "source": [
    "## <center> 3) Grading </center>\n",
    "##### Participation - 10%\n",
    "\n",
    "##### Problem sets - 20%\n",
    "   - instructions on how to access and hand in the problem sets will be available biweekly\n",
    "\n",
    "##### Exams - 25%\n",
    "   - two exams: mid-semester and end of semester\n",
    "\n",
    "##### Project - 45%\n",
    "   - Project idea - 20%\n",
    "   - Progress reports - 20% \n",
    "   - Final project presentation - 20% \n",
    "   - Final project report - 40%"
   ]
  },
  {
   "cell_type": "markdown",
   "metadata": {
    "slideshow": {
     "slide_type": "subslide"
    }
   },
   "source": [
    "### <center> 3.1) Project </center>\n",
    "\n",
    "Preference is for a supervised ML project.\n",
    "\n",
    "##### Project idea - Be creative!\n",
    "Prepare a short document (1-2 pages max) that describes\n",
    "   - The problem you want to solve with machine learning. Why is it important/interesting?\n",
    "   - What type of problem is it? Classification, regression, etc?\n",
    "   - The data you will use. Tabular data is preferred. What data fields do you have? How many data points? Do you have missing data? Is there time-dependence in the data? Is the data on humans?\n",
    "\n",
    "Hand in first draft to your TA mentor by 16th of September.\n",
    "Final draft is due by 23rd of September.\n",
    "\n",
    "##### Data preprocessing and first progress report\n",
    "September 24th to October 21st\n",
    "\n",
    "##### Mid-term presentations\n",
    "October 22 and 24\n",
    "\n",
    "##### The ML pipeline and final report\n",
    "November 14 - discuss initial results with TA mentor\n",
    "December 2 - final report is due \n",
    "\n",
    "##### Final presentations\n",
    "December 3 and 5"
   ]
  },
  {
   "cell_type": "markdown",
   "metadata": {
    "slideshow": {
     "slide_type": "slide"
    }
   },
   "source": [
    "## <center> 4) Jupyterhub </center>\n",
    "There is one repository for the lecture slides which is synched to jupyter hub.\n",
    "\n",
    "You can make notes in the notebook by adding a new cell and changing its type to markdown.\n",
    "\n",
    "Your modified notebook will remain in your  hub folder but it is not pushed back to the repo. \n",
    "\n",
    "My advice: download the  notebook at the end of your lecture to have a local copy of your notes. The repo will contain my slides without your notes."
   ]
  },
  {
   "cell_type": "markdown",
   "metadata": {
    "slideshow": {
     "slide_type": "slide"
    }
   },
   "source": [
    "## <center> 5) Tophat </center>\n",
    "Let's take attendance! Please go to https://app.tophat.com/e/245218\n",
    "or use the join code 245218 in the app.\n",
    "\n",
    "Then enter the attendance code you see.\n"
   ]
  },
  {
   "cell_type": "markdown",
   "metadata": {
    "slideshow": {
     "slide_type": "slide"
    }
   },
   "source": [
    "## <center> 6) Piazza </center>\n",
    "\n",
    "##### Signup Link:\n",
    "\n",
    "https://piazza.com/brown/fall2019/fall2019data1030s01\n",
    "\n",
    "There folders like 'project', 'exam', 'logistics', 'other'. There will be folders for problem sets and lectures.\n"
   ]
  },
  {
   "cell_type": "markdown",
   "metadata": {
    "slideshow": {
     "slide_type": "slide"
    }
   },
   "source": [
    "## <center> 7) Github classroom </center>\n",
    "Each home work assignment will have its own invitation link which I'll share with you through piazza.\n",
    "\n",
    "Click on the link and it will create a presonalized repo for you. \n",
    "\n",
    "Clone the repo in the hub and work on the solution in the hub.\n",
    "\n",
    "The repo will contain notebooks with the exercise descriptions and potentially other files (e.g., csv files) to work with.\n",
    "\n",
    "Add your solution to the cell below the exercise description, run the cell, and push the solutions to your repo, and submit it to gradescope before the submission deadline."
   ]
  },
  {
   "cell_type": "markdown",
   "metadata": {
    "slideshow": {
     "slide_type": "slide"
    }
   },
   "source": [
    "## <center> 8) Semester-long assignments: your choice </center>\n",
    "\n",
    "Work locally on your laptop! If you  work with a lot of data or develop a computationally heavy ML pipeline, you can also use CCV's oscar computing cluster. https://docs.ccv.brown.edu/oscar/\n",
    "\n",
    "Install all necessary software. Advice: use anaconda, or docker to create reproducable code!\n",
    "\n",
    "Create a github repo for your project! \n",
    "\n",
    "Clear README is important!\n",
    "\n",
    "Recommended directory structure:\n",
    "```\n",
    ".\n",
    "├── data/\n",
    "├── figures/\n",
    "├── results/  \n",
    "├── reports/\n",
    "├── src/\n",
    "├── .gitignore\n",
    "├── LICENSE\n",
    "└── README.md\n",
    "```\n",
    "add yaml file for conda or Dockerfile and requirements.txt for docker. "
   ]
  },
  {
   "cell_type": "code",
   "execution_count": null,
   "metadata": {},
   "outputs": [],
   "source": []
  }
 ],
 "metadata": {
  "celltoolbar": "Slideshow",
  "kernelspec": {
   "display_name": "Python 3",
   "language": "python",
   "name": "python3"
  },
  "language_info": {
   "codemirror_mode": {
    "name": "ipython",
    "version": 3
   },
   "file_extension": ".py",
   "mimetype": "text/x-python",
   "name": "python",
   "nbconvert_exporter": "python",
   "pygments_lexer": "ipython3",
   "version": "3.6.7"
  }
 },
 "nbformat": 4,
 "nbformat_minor": 2
}
