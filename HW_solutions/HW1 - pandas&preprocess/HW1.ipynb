{
 "cells": [
  {
   "cell_type": "markdown",
   "metadata": {},
   "source": [
    "**Instructions**\n",
    "\n",
    "- Import the pandas package and sklearn preprocessors to solve the problems.\n",
    "\n",
    "- Run all cells before exporting the notebook into a pdf.\n",
    "\n",
    "- Push  your solution to the github  repository.\n"
   ]
  },
  {
   "cell_type": "markdown",
   "metadata": {},
   "source": [
    "Problem 1) Load the adult_train.csv and answer the following questions. (4 points)"
   ]
  },
  {
   "cell_type": "code",
   "execution_count": 2,
   "metadata": {},
   "outputs": [
    {
     "name": "stdout",
     "output_type": "stream",
     "text": [
      "595\n",
      "137\n",
      "44\n",
      "0.29479216435738176\n",
      "0.27195685670261943\n",
      "0.38645833333333335\n"
     ]
    }
   ],
   "source": [
    "import pandas as pd\n",
    "\n",
    "df = pd.read_csv('adult_data.csv')\n",
    "\n",
    "# 1. How many females have a capital gain of at least $1000? (1 point)\n",
    "print(df[(df['sex']==' Female')&(df['capital-gain']>1000)].shape[0])\n",
    "\n",
    "# 2. How many germans are in the dataset? And how many of them earn more than 50k? (1 point)\n",
    "print(df[df['native-country']==' Germany'].shape[0])\n",
    "print(df[(df['native-country']==' Germany')&(df['gross-income'] == ' >50K')].shape[0])\n",
    "\n",
    "# 3. What percentage of people earn more than 50k in the local, state, or federal government? (2 points)\n",
    "print(df[(df['workclass']==' Local-gov')&(df['gross-income'] == ' >50K')].shape[0]/df[df['workclass']==' Local-gov'].shape[0])\n",
    "print(df[(df['workclass']==' State-gov')&(df['gross-income'] == ' >50K')].shape[0]/df[df['workclass']==' State-gov'].shape[0])\n",
    "print(df[(df['workclass']==' Federal-gov')&(df['gross-income'] == ' >50K')].shape[0]/df[df['workclass']==' Federal-gov'].shape[0])\n"
   ]
  },
  {
   "cell_type": "markdown",
   "metadata": {},
   "source": [
    "Problem 2) Some nice methods of pandas are the groupby, agg, and value_counts. We did not cover this in class but load their helps (1 point) and read about them. Before you submit the pdf, please comment out the help lines so the help is not included in the pdf you submit.\n",
    "\n",
    "Please answer the following questions using the methods. (4 points)\n"
   ]
  },
  {
   "cell_type": "code",
   "execution_count": 3,
   "metadata": {},
   "outputs": [
    {
     "name": "stdout",
     "output_type": "stream",
     "text": [
      "                         age\n",
      "workclass                   \n",
      " ?                 40.960240\n",
      " Federal-gov       42.590625\n",
      " Local-gov         41.751075\n",
      " Never-worked      20.571429\n",
      " Private           36.797585\n",
      " Self-emp-inc      46.017025\n",
      " Self-emp-not-inc  44.969697\n",
      " State-gov         39.436055\n",
      " Without-pay       47.785714\n",
      " Private             22696\n",
      " Self-emp-not-inc     2541\n",
      " Local-gov            2093\n",
      " ?                    1836\n",
      " State-gov            1298\n",
      " Self-emp-inc         1116\n",
      " Federal-gov           960\n",
      " Without-pay            14\n",
      " Never-worked            7\n",
      "Name: workclass, dtype: int64\n",
      "0.1390593047034765\n",
      "0.3522867737948084\n"
     ]
    }
   ],
   "source": [
    "df = pd.read_csv('adult_data.csv')\n",
    "\n",
    "# 1. What's the average age of each work class?\n",
    "print(df[['age','workclass']].groupby(['workclass']).mean())\n",
    "\n",
    "# 2. How many people do we have in each work class?\n",
    "print(df['workclass'].value_counts())\n",
    "\n",
    "# Let's study the gender wage gap in 1994 in the USA using this dataset.\n",
    "# 3. What percentage of females earn more than 50k in the state-gov work class? \n",
    "print(df[(df['workclass']==' State-gov')&(df['gross-income'] == ' >50K')&(df['sex']==' Female')].shape[0]\\\n",
    "      /df[(df['workclass']==' State-gov')&(df['sex']==' Female')].shape[0])\n",
    "\n",
    "# 4. What percentage of males earn more than 50k in the state-gov work class?\n",
    "print(df[(df['workclass']==' State-gov')&(df['gross-income'] == ' >50K')&(df['sex']==' Male')].shape[0]\\\n",
    "      /df[(df['workclass']==' State-gov')&(df['sex']==' Male')].shape[0])\n",
    "\n"
   ]
  },
  {
   "cell_type": "markdown",
   "metadata": {},
   "source": [
    "Problem 3) We have the following datasets from three major social media platforms:\n",
    "\n",
    "```['Joseph','Jacob','Adella','Ziana','Mickey']```; ```[15, 23, 95, 135, 212]``` (Name, total time spent yeterday on Facebook)\n",
    "\n",
    "```['Shirly','Jacob','Ximena','Rachel','Mickey']```; ```[9, 31, 78, 115, 198]``` (Name, total time spent yesterday on Twitter)\n",
    "\n",
    "```['Angie','Mickey','Rachel','Jacob','Andras']```; ```[82, 13, 5, 2, 124]``` (Name, total time spent yesterday on Youtube)\n",
    "\n",
    "Please convert them into three pandas dataframes (1 point).\n",
    "\n",
    "Answer the following questions. Include the lines that give you the answers.\n",
    "\n",
    "How many users are on all three platforms? (1 point)\n",
    "\n",
    "Create a dataframe that counts the total number of minutes spent across all platforms by each user. (1 point)\n",
    "\n",
    "Twitter would like to know how many minutes its users spend on other social media platforms. (2 points)\n"
   ]
  },
  {
   "cell_type": "code",
   "execution_count": 5,
   "metadata": {},
   "outputs": [
    {
     "name": "stdout",
     "output_type": "stream",
     "text": [
      "2\n",
      "     Name  total time\n",
      "0  Joseph        15.0\n",
      "1   Jacob        56.0\n",
      "2  Adella        95.0\n",
      "3   Ziana       135.0\n",
      "4  Mickey       423.0\n",
      "5  Shirly         9.0\n",
      "6  Ximena        78.0\n",
      "7  Rachel       120.0\n",
      "8   Angie        82.0\n",
      "9  Andras       124.0\n",
      "     Name  total time on other social media\n",
      "0  Shirly                               0.0\n",
      "1   Jacob                              25.0\n",
      "2  Ximena                               0.0\n",
      "3  Rachel                               5.0\n",
      "4  Mickey                             225.0\n"
     ]
    }
   ],
   "source": [
    "# insert your code below\n",
    "\n",
    "facebook = {'Name':['Joseph','Jacob','Adella','Ziana','Mickey'],'time spent':[15, 23, 95, 135, 212]}\n",
    "df_facebook = pd.DataFrame(facebook)\n",
    "\n",
    "twitter = {'Name':['Shirly','Jacob','Ximena','Rachel','Mickey'],'time spent':[9, 31, 78, 115, 198]}\n",
    "df_twitter = pd.DataFrame(twitter)\n",
    "\n",
    "youtube = {'Name':['Angie','Mickey','Rachel','Jacob','Andras'],'time spent':[82, 13, 5, 2, 124]}\n",
    "df_youtube = pd.DataFrame(youtube)\n",
    "\n",
    "# How many users are on all three platforms? (1 point)\n",
    "df_merge = df_facebook.merge(df_twitter,how='inner',on='Name')\n",
    "df_merge = df_merge.merge(df_youtube,how='inner',on='Name')\n",
    "print(df_merge.shape[0])\n",
    "\n",
    "# Create a dataframe that counts the total number of minutes spent across all platforms by each user. (1 point)\n",
    "df_merge = df_facebook.merge(df_twitter,how='outer',on='Name')\n",
    "df_merge = df_merge.merge(df_youtube,how='outer',on='Name')\n",
    "df_result = pd.DataFrame()\n",
    "df_result['Name'] = df_merge['Name']\n",
    "df_result['total time'] = df_merge[['time spent_x',  \"time spent_y\",  \"time spent\"]].sum(axis=1)\n",
    "print(df_result)\n",
    "\n",
    "# Twitter would like to know how many minutes its users spend on other social media platforms. (2 points)\n",
    "df_twitter_merged = df_twitter.merge(df_youtube,how='left',on='Name')\n",
    "df_twitter_merged = df_twitter_merged.merge(df_facebook,how='left',on='Name')\n",
    "df_result4 = pd.DataFrame()\n",
    "df_result4['Name'] = df_twitter_merged['Name']\n",
    "df_result4['total time on other social media'] = df_twitter_merged[[\"time spent_y\",  \"time spent\"]].sum(axis=1)\n",
    "print(df_result4)"
   ]
  },
  {
   "cell_type": "markdown",
   "metadata": {},
   "source": [
    "Problem 4) Load the adult_data.csv file. Please preprocess the dataset for ML. One-hot or ordinal encode categorical features (3 points). Decide which scaling method is best for each continuous feature and scale them (3 points). Your target variable is 'gross-income'. Preprocess the target variable as well (1 point). Save the preprocessed data into a pandas dataframe (1 point). We will use the preprocessed data later."
   ]
  },
  {
   "cell_type": "code",
   "execution_count": 35,
   "metadata": {},
   "outputs": [
    {
     "name": "stdout",
     "output_type": "stream",
     "text": [
      "(32561, 15)\n",
      "Index(['age', 'workclass', 'fnlwgt', 'education', 'education-num',\n",
      "       'marital-status', 'occupation', 'relationship', 'race', 'sex',\n",
      "       'capital-gain', 'capital-loss', 'hours-per-week', 'native-country',\n",
      "       'gross-income'],\n",
      "      dtype='object')\n",
      "(32561, 109)\n"
     ]
    }
   ],
   "source": [
    "# insert your code below\n",
    "import pandas as pd\n",
    "from sklearn.preprocessing import OneHotEncoder\n",
    "from sklearn.preprocessing import StandardScaler\n",
    "from sklearn.preprocessing import LabelEncoder\n",
    "\n",
    "df = pd.read_csv('adult_data.csv')\n",
    "\n",
    "print(df.shape)\n",
    "print(df.columns)\n",
    "\n",
    "# make sure each feature appears only once!\n",
    "cat_ftrs = ['workclass','education','marital-status','occupation','relationship','race','sex','native-country']\n",
    "cont_ftrs = ['age','fnlwgt','education-num','capital-gain','capital-loss','hours-per-week']\n",
    "label = 'gross-income'\n",
    "\n",
    "# one-hot encoder\n",
    "ohe = OneHotEncoder(sparse=False)\n",
    "cat_values = ohe.fit_transform(df[cat_ftrs])\n",
    "cat_ftr_names = ohe.get_feature_names()\n",
    "df_cat = pd.DataFrame(data=cat_values,columns = cat_ftr_names)\n",
    "\n",
    "# standard scaler\n",
    "ss = StandardScaler()\n",
    "cont_values = ss.fit_transform(df[cont_ftrs])\n",
    "df_cont = pd.DataFrame(data=cont_values,columns = cont_ftrs)\n",
    "\n",
    "# label encoding\n",
    "le = LabelEncoder()\n",
    "y = le.fit_transform(df[label])\n",
    "\n",
    "# collect the preprocessed dataframes\n",
    "df_preprocessed = pd.concat([df_cat,df_cont],axis=1)\n",
    "df_preprocessed[label] = y\n",
    "\n",
    "# save it to csv\n",
    "df_preprocessed.to_csv('adult_preprocessed.csv',index=False)\n",
    "\n",
    "# the number of rows must be the same as in df!\n",
    "print(df_preprocessed.shape)"
   ]
  },
  {
   "cell_type": "code",
   "execution_count": null,
   "metadata": {},
   "outputs": [],
   "source": []
  }
 ],
 "metadata": {
  "kernelspec": {
   "display_name": "Python 3",
   "language": "python",
   "name": "python3"
  },
  "language_info": {
   "codemirror_mode": {
    "name": "ipython",
    "version": 3
   },
   "file_extension": ".py",
   "mimetype": "text/x-python",
   "name": "python",
   "nbconvert_exporter": "python",
   "pygments_lexer": "ipython3",
   "version": "3.6.7"
  }
 },
 "nbformat": 4,
 "nbformat_minor": 2
}
