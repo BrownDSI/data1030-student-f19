{
 "cells": [
  {
   "cell_type": "markdown",
   "metadata": {},
   "source": [
    "**Instructions**\n",
    "\n",
    "- Don't use built-in functions or imported packages.\n",
    "\n",
    "- Run all cells before exporting the notebook into a pdf.\n"
   ]
  },
  {
   "cell_type": "markdown",
   "metadata": {},
   "source": [
    "1) Write a function that return all even numbers less than 100 from a list.  (3 points)\n"
   ]
  },
  {
   "cell_type": "code",
   "execution_count": 1,
   "metadata": {},
   "outputs": [
    {
     "name": "stdout",
     "output_type": "stream",
     "text": [
      "[42, 32, 76]\n",
      "[0, 66]\n",
      "[]\n"
     ]
    }
   ],
   "source": [
    "def my_funct(a):\n",
    "    # 'a' is your input list that contain numbers.\n",
    "    # assume that all elements of the list are numbers.\n",
    "    # add your code here:\n",
    "    \n",
    "    output = []\n",
    "    \n",
    "    for item in a:\n",
    "        if (item%2 == 0)&(item < 100):\n",
    "            output.append(item)\n",
    "    \n",
    "    # 'output' is a list that contains all elements of the input 'a' that are even and less than 100.\n",
    "    return output\n",
    "\n",
    "list_a = [1,42,876,32,76]\n",
    "\n",
    "list_b = [-13, 0, 137, 66, 44.1, 100]\n",
    "\n",
    "list_c = [-67, 12.9, 33, 101, 128]\n",
    "\n",
    "# run your function on all three lists and print the output!\n",
    "print(my_funct(list_a))\n",
    "print(my_funct(list_b))\n",
    "print(my_funct(list_c))\n",
    "\n"
   ]
  },
  {
   "cell_type": "markdown",
   "metadata": {},
   "source": [
    "2) Write a function which takes a non-negative integer  as an input and it returns the number of unique digits as output. For example 5 as input returns 1, 10 as input returns 2, 101 as input returns 2, 222 as input returns 1, etc... You can use the built-in set function for this exercise. (4 points)"
   ]
  },
  {
   "cell_type": "code",
   "execution_count": 2,
   "metadata": {},
   "outputs": [
    {
     "name": "stdout",
     "output_type": "stream",
     "text": [
      "1\n",
      "2\n",
      "4\n",
      "8\n"
     ]
    }
   ],
   "source": [
    "def my_funct2(pos_int):\n",
    "    nr_unique_digits = len(set(str(pos_int)))\n",
    "    return nr_unique_digits\n",
    "\n",
    "num1 = 0\n",
    "num2 = 101\n",
    "num3 = 243445\n",
    "num4 = 3141592653589\n",
    "\n",
    "# run your function on the four numbers and print the output!\n",
    "print(my_funct2(num1))\n",
    "print(my_funct2(num2))\n",
    "print(my_funct2(num3))\n",
    "print(my_funct2(num4))\n",
    "\n"
   ]
  },
  {
   "cell_type": "markdown",
   "metadata": {},
   "source": [
    "3) List slicing (2 points)"
   ]
  },
  {
   "cell_type": "code",
   "execution_count": 4,
   "metadata": {},
   "outputs": [
    {
     "name": "stdout",
     "output_type": "stream",
     "text": [
      "[0, 1, 2, 3, 4, 5]\n",
      "[20, 19, 18, 17, 16, 15, 14, 13, 12, 11, 10, 9, 8, 7, 6, 5, 4, 3, 2, 1, 0]\n",
      "[20, 17, 14, 11, 8, 5, 2]\n",
      "[0, 5, 10]\n"
     ]
    }
   ],
   "source": [
    "a = [0,1,2,3,4,5,6,7,8,9,10,11,12,13,14,15,16,17,18,19,20]\n",
    "\n",
    "# print the first six elements of the list.\n",
    "print(a[:6])\n",
    "# print the list in reversed order.\n",
    "print(a[::-1])\n",
    "# print every third element in reversed order.\n",
    "print(a[::-3])\n",
    "# print every 5th element from the first 15 elements of the list.\n",
    "print(a[:15:5])"
   ]
  },
  {
   "cell_type": "markdown",
   "metadata": {},
   "source": [
    "4) Dictionaries (1 point)"
   ]
  },
  {
   "cell_type": "code",
   "execution_count": 5,
   "metadata": {},
   "outputs": [
    {
     "name": "stdout",
     "output_type": "stream",
     "text": [
      "[1, 2, 3, 4]\n"
     ]
    }
   ],
   "source": [
    "A = {\"this\":[\"is\", \"a\", {\"dictionary\":[1,2,3,4]}]} # you will see such dictionaries later when you work with JSON files. \n",
    "\n",
    "# Print the list [1,2,3,4] from A.\n",
    "print(A['this'][2]['dictionary'])\n"
   ]
  },
  {
   "cell_type": "code",
   "execution_count": null,
   "metadata": {},
   "outputs": [],
   "source": []
  }
 ],
 "metadata": {
  "kernelspec": {
   "display_name": "Python 3",
   "language": "python",
   "name": "python3"
  },
  "language_info": {
   "codemirror_mode": {
    "name": "ipython",
    "version": 3
   },
   "file_extension": ".py",
   "mimetype": "text/x-python",
   "name": "python",
   "nbconvert_exporter": "python",
   "pygments_lexer": "ipython3",
   "version": "3.6.7"
  }
 },
 "nbformat": 4,
 "nbformat_minor": 2
}
