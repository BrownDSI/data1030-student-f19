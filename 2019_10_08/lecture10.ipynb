{
 "cells": [
  {
   "cell_type": "markdown",
   "metadata": {
    "slideshow": {
     "slide_type": "slide"
    }
   },
   "source": [
    "## <center> Go to piazza and open today's lecture notes in the hub! </center>\n",
    "## <center> https://piazza.com/class/jzioyk40mhs6r2 </center>\n",
    "## <center> Let's go to tophat for attendance! </center>\n",
    "## <center> https://app.tophat.com/e/245218 </center>"
   ]
  },
  {
   "cell_type": "markdown",
   "metadata": {
    "slideshow": {
     "slide_type": "slide"
    }
   },
   "source": [
    "# Dimensionality reduction, and feature engineering\n",
    "- Mud card\n",
    "- PCA\n",
    "- feature engineering\n",
    "- overview of what we learnt so far\n"
   ]
  },
  {
   "cell_type": "markdown",
   "metadata": {
    "slideshow": {
     "slide_type": "slide"
    }
   },
   "source": [
    "# <font color='LIGHTGRAY'>Dimensionality reduction, and feature engineering\n",
    "- **Mud card**\n",
    "- <font color='LIGHTGRAY'>PCA</font>\n",
    "- <font color='LIGHTGRAY'>feature engineering</font>\n",
    "- <font color='LIGHTGRAY'>overview of what we learnt so far</font>\n"
   ]
  },
  {
   "cell_type": "markdown",
   "metadata": {
    "slideshow": {
     "slide_type": "slide"
    }
   },
   "source": [
    "## <center>Mud card</center>\n",
    "- **What is the meaning of f in f regression?**\n",
    "   - [f test](https://en.wikipedia.org/wiki/F-test)\n",
    "- **Selectkbest question, can we examine the best feature from p value , or f test score?**"
   ]
  },
  {
   "cell_type": "code",
   "execution_count": 1,
   "metadata": {},
   "outputs": [],
   "source": [
    "import pandas as pd\n",
    "from sklearn.feature_selection import f_regression\n",
    "import matplotlib.pyplot as plt\n",
    "import numpy as np\n",
    "\n",
    "df = pd.read_csv('data/house_price_prep_imputed_1.csv')\n",
    "y = df['SalePrice'].values # the target variable\n",
    "df.drop(columns=['SalePrice'],inplace=True)\n",
    "X = df.values # the feature matrix\n",
    "feature_names = df.columns # feature names\n",
    "f_test, p_values = f_regression(X, y)"
   ]
  },
  {
   "cell_type": "code",
   "execution_count": 2,
   "metadata": {
    "slideshow": {
     "slide_type": "subslide"
    }
   },
   "outputs": [
    {
     "name": "stdout",
     "output_type": "stream",
     "text": [
      "Index(['OverallQual', 'GrLivArea', 'ExterQual'], dtype='object')\n",
      "Index(['OverallQual', 'GrLivArea', 'ExterQual'], dtype='object')\n"
     ]
    },
    {
     "data": {
      "image/png": "[encoded data removed]",
      "text/plain": [
       "<Figure size 432x288 with 1 Axes>"
      ]
     },
     "metadata": {
      "needs_background": "light"
     },
     "output_type": "display_data"
    }
   ],
   "source": [
    "print(feature_names[np.argsort(p_values)[:3]]) # small p value means more important features\n",
    "print(feature_names[np.argsort(f_test)[:-4:-1]]) # large f score means more important features\n",
    "\n",
    "plt.scatter(f_test,np.log10(p_values))\n",
    "plt.xlabel('f score')\n",
    "plt.ylabel('log10( p value )')\n",
    "plt.title('inverse correlation between f score and p value')\n",
    "plt.savefig('figures/pval_fscore.png',dpi=300)\n",
    "plt.show()"
   ]
  },
  {
   "cell_type": "markdown",
   "metadata": {
    "slideshow": {
     "slide_type": "slide"
    }
   },
   "source": [
    "# <font color='LIGHTGRAY'>Dimensionality reduction, and feature engineering\n",
    "- <font color='LIGHTGRAY'>Mud card</font>\n",
    "- **PCA**\n",
    "- <font color='LIGHTGRAY'>feature engineering</font>\n",
    "- <font color='LIGHTGRAY'>overview of what we learnt so far</font>\n"
   ]
  },
  {
   "cell_type": "markdown",
   "metadata": {
    "slideshow": {
     "slide_type": "slide"
    }
   },
   "source": [
    "## <center>PCA revisited</center>\n",
    "- PCA converts a set of possibly correlated features into a set of linearly uncorrelated variables. The axes of the new coordinate system are the principal components."
   ]
  },
  {
   "cell_type": "code",
   "execution_count": 3,
   "metadata": {},
   "outputs": [
    {
     "data": {
      "image/png": "[encoded data removed]",
      "text/plain": [
       "<Figure size 432x288 with 1 Axes>"
      ]
     },
     "metadata": {
      "needs_background": "light"
     },
     "output_type": "display_data"
    }
   ],
   "source": [
    "import numpy as np\n",
    "import matplotlib.pyplot as plt\n",
    "from sklearn.decomposition import PCA\n",
    "np.random.seed(1)\n",
    "X = np.dot(np.random.rand(2, 2), np.random.randn(2, 200)).T + np.random.rand(2)\n",
    "plt.scatter(X[:,0],X[:,1])\n",
    "plt.axis('equal')\n",
    "plt.show()"
   ]
  },
  {
   "cell_type": "code",
   "execution_count": 4,
   "metadata": {
    "slideshow": {
     "slide_type": "subslide"
    }
   },
   "outputs": [
    {
     "name": "stdout",
     "output_type": "stream",
     "text": [
      "corr matrix of X:\n",
      "[[1.         0.88938995]\n",
      " [0.88938995 1.        ]]\n",
      "covariance matrix of X:\n",
      "[[0.68217761 0.23093475]\n",
      " [0.23093475 0.09883179]]\n",
      "corr matrix of X_pca:\n",
      "[[1.00000000e+00 1.37071535e-17]\n",
      " [1.37071535e-17 1.00000000e+00]]\n",
      "covariance matrix of X_pca:\n",
      "[[7.62531501e-01 1.62705571e-18]\n",
      " [1.62705571e-18 1.84778955e-02]]\n",
      "explained variances of PCs:\n",
      "[0.7625315 0.0184779]\n",
      "explained variance ratios of PCs:\n",
      "[0.97634101 0.02365899]\n"
     ]
    }
   ],
   "source": [
    "pca = PCA(n_components=2)\n",
    "X_pca = pca.fit_transform(X)\n",
    "print('corr matrix of X:')\n",
    "print(np.corrcoef(X,rowvar=False))\n",
    "print('covariance matrix of X:')\n",
    "print(np.cov(X,rowvar=False))\n",
    "print('corr matrix of X_pca:')\n",
    "print(np.corrcoef(X_pca,rowvar=False))\n",
    "print('covariance matrix of X_pca:')\n",
    "print(np.cov(X_pca,rowvar=False))\n",
    "print('explained variances of PCs:')\n",
    "print(pca.explained_variance_)\n",
    "print('explained variance ratios of PCs:')\n",
    "print(pca.explained_variance_ratio_)"
   ]
  },
  {
   "cell_type": "markdown",
   "metadata": {
    "slideshow": {
     "slide_type": "slide"
    }
   },
   "source": [
    "## <center>PCA revisited</center>\n",
    "How many principal components should I choose?"
   ]
  },
  {
   "cell_type": "code",
   "execution_count": 5,
   "metadata": {},
   "outputs": [],
   "source": [
    "# let's apply PCA to the house price dataset\n",
    "from sklearn.experimental import enable_iterative_imputer\n",
    "from sklearn.impute import IterativeImputer\n",
    "from sklearn.ensemble import RandomForestRegressor\n",
    "from sklearn.linear_model import LinearRegression\n",
    "import pandas as pd\n",
    "\n",
    "df = pd.read_csv('data/house_price_prep_imputed_1.csv')\n",
    "# save and drop the target variable - PCA should only be applied to the feature matrix!\n",
    "y = df['SalePrice']\n",
    "df.drop(columns=['SalePrice'],inplace=True)\n",
    "\n",
    "pca = PCA(n_components=df.shape[1]) # keep all components\n",
    "X_pca = pca.fit(df)"
   ]
  },
  {
   "cell_type": "code",
   "execution_count": 6,
   "metadata": {
    "slideshow": {
     "slide_type": "subslide"
    }
   },
   "outputs": [
    {
     "data": {
      "image/png": "[encoded data removed]",
      "text/plain": [
       "<Figure size 432x288 with 1 Axes>"
      ]
     },
     "metadata": {
      "needs_background": "light"
     },
     "output_type": "display_data"
    }
   ],
   "source": [
    "# how much variance is retained?\n",
    "plt.plot(np.cumsum(pca.explained_variance_ratio_))\n",
    "plt.xlabel('Nr. components')\n",
    "plt.ylabel('variance explained')\n",
    "plt.show()"
   ]
  },
  {
   "cell_type": "code",
   "execution_count": 7,
   "metadata": {
    "slideshow": {
     "slide_type": "subslide"
    }
   },
   "outputs": [
    {
     "name": "stdout",
     "output_type": "stream",
     "text": [
      "[0.18744899 0.28360746 0.34530813 0.39313805 0.43311386 0.46500937\n",
      " 0.4914974  0.51708903 0.53895124 0.55993898 0.58043401 0.60054967\n",
      " 0.61992591 0.63806161 0.6560215  0.67292326 0.68940264 0.70553067\n",
      " 0.72082832 0.73484684 0.74838751 0.76174333 0.77475923 0.78635676\n",
      " 0.79740704 0.80762559 0.81725804 0.82619013 0.83468618 0.84243676\n",
      " 0.8499227  0.85677408 0.86289204 0.8688436  0.87431632 0.87946223\n",
      " 0.88418765 0.8888552  0.8933871  0.897663   0.90186692 0.90573772\n",
      " 0.90951992 0.91319983 0.9167214  0.92000577 0.92311122 0.92602569\n",
      " 0.92886176 0.93162916 0.93428849 0.93691215 0.93948571 0.94176475\n",
      " 0.9439697  0.94608731 0.94809232 0.9500345  0.95194719 0.95370676\n",
      " 0.95542914 0.95706383 0.95865533 0.96019843 0.96169436 0.96309219\n",
      " 0.9644641  0.96580501 0.96710217 0.96834526 0.9695302  0.97067837\n",
      " 0.97180009 0.97287632 0.97386208 0.97482441 0.9757656  0.976634\n",
      " 0.97749175 0.97827715 0.97902744 0.97976613 0.98045109 0.98113286\n",
      " 0.98180202 0.98244052 0.98307144 0.98367449 0.98424992 0.98481524\n",
      " 0.98535275 0.98587486 0.98637592 0.98686283 0.98733725 0.9877951\n",
      " 0.98823383 0.98866649 0.98907541 0.98947706 0.98987332 0.99024714\n",
      " 0.9906051  0.99093832 0.9912694  0.99159353 0.99191655 0.99222898\n",
      " 0.99252142 0.99280702 0.99308534 0.99335503 0.99361247 0.99385553\n",
      " 0.99408946 0.99431913 0.99453837 0.99474973 0.9949512  0.99515038\n",
      " 0.99533621 0.99551013 0.99567713 0.9958389  0.99599625 0.99615191\n",
      " 0.99630299 0.99645099 0.99658983 0.99672365 0.99685108 0.99697238\n",
      " 0.99708859 0.99720412 0.99731234 0.99741974 0.99752463 0.99762556\n",
      " 0.99772335 0.99782047 0.99791431 0.99800457 0.99809336 0.99818038\n",
      " 0.99826475 0.99834351 0.99841759 0.99849024 0.99855827 0.99862368\n",
      " 0.99868574 0.99874705 0.99880561 0.99886144 0.99891442 0.99896674\n",
      " 0.9990172  0.99906711 0.99911587 0.99916166 0.99920557 0.9992475\n",
      " 0.99928857 0.99932742 0.99936506 0.9994005  0.99943371 0.99946557\n",
      " 0.99949735 0.99952879 0.99955928 0.99958592 0.99961229 0.99963674\n",
      " 0.99966043 0.99968355 0.99970557 0.99972745 0.99974833 0.99976841\n",
      " 0.99978824 0.99980609 0.99982324 0.99983878 0.99985424 0.99986786\n",
      " 0.99988091 0.99989284 0.99990423 0.99991499 0.99992546 0.99993533\n",
      " 0.99994494 0.99995407 0.99996258 0.99997104 0.99997864 0.99998563\n",
      " 0.99999112 0.9999956  0.99999932 1.         1.         1.\n",
      " 1.         1.         1.         1.         1.         1.\n",
      " 1.         1.         1.         1.         1.         1.\n",
      " 1.         1.         1.         1.         1.         1.\n",
      " 1.         1.         1.         1.         1.         1.\n",
      " 1.        ]\n",
      "58\n"
     ]
    }
   ],
   "source": [
    "print(np.cumsum(pca.explained_variance_ratio_))\n",
    "print(sum(np.cumsum(pca.explained_variance_ratio_) < 0.95)+1)"
   ]
  },
  {
   "cell_type": "markdown",
   "metadata": {
    "slideshow": {
     "slide_type": "slide"
    }
   },
   "source": [
    "## <center>PCA revisited</center>\n",
    "- PCA can be thought of as fitting a p-dimensional ellipsoid to the data, where each axis of the ellipsoid represents a principal component"
   ]
  },
  {
   "cell_type": "code",
   "execution_count": 8,
   "metadata": {
    "slideshow": {
     "slide_type": "skip"
    }
   },
   "outputs": [],
   "source": [
    "# https://matplotlib.org/3.1.1/gallery/statistics/confidence_ellipse.html#sphx-glr-gallery-statistics-confidence-ellipse-py\n",
    "from matplotlib.patches import Ellipse\n",
    "import matplotlib.transforms as transforms\n",
    "\n",
    "def confidence_ellipse(x, y, ax=None, n_std=3.0, facecolor='none', edgecolor='red', **kwargs):\n",
    "    \"\"\"\n",
    "    Create a plot of the covariance confidence ellipse of `x` and `y`\n",
    "\n",
    "    Parameters\n",
    "    ----------\n",
    "    x, y : array_like, shape (n, )\n",
    "        Input data.\n",
    "\n",
    "    ax : matplotlib.axes.Axes\n",
    "        The axes object to draw the ellipse into.\n",
    "\n",
    "    n_std : float\n",
    "        The number of standard deviations to determine the ellipse's radiuses.\n",
    "\n",
    "    Returns\n",
    "    -------\n",
    "    matplotlib.patches.Ellipse\n",
    "\n",
    "    Other parameters\n",
    "    ----------------\n",
    "    kwargs : `~matplotlib.patches.Patch` properties\n",
    "    \"\"\"\n",
    "    if x.size != y.size:\n",
    "        raise ValueError(\"x and y must be the same size\")\n",
    "\n",
    "    cov = np.cov(x, y)\n",
    "    pearson = cov[0, 1]/np.sqrt(cov[0, 0] * cov[1, 1])\n",
    "    # Using a special case to obtain the eigenvalues of this\n",
    "    # two-dimensionl dataset.\n",
    "    ell_radius_x = np.sqrt(1 + pearson)\n",
    "    ell_radius_y = np.sqrt(1 - pearson)\n",
    "    ellipse = Ellipse((0, 0),\n",
    "        width=ell_radius_x * 2,\n",
    "        height=ell_radius_y * 2,\n",
    "        facecolor=facecolor,\n",
    "        edgecolor=edgecolor,\n",
    "        **kwargs)\n",
    "\n",
    "    # Calculating the stdandard deviation of x from\n",
    "    # the squareroot of the variance and multiplying\n",
    "    # with the given number of standard deviations.\n",
    "    scale_x = np.sqrt(cov[0, 0]) * n_std\n",
    "    mean_x = np.mean(x)\n",
    "\n",
    "    # calculating the stdandard deviation of y ...\n",
    "    scale_y = np.sqrt(cov[1, 1]) * n_std\n",
    "    mean_y = np.mean(y)\n",
    "\n",
    "    transf = transforms.Affine2D() \\\n",
    "        .rotate_deg(45) \\\n",
    "        .scale(scale_x, scale_y) \\\n",
    "        .translate(mean_x, mean_y)\n",
    "    \n",
    "    ax = ax or plt.gca()\n",
    "    ellipse.set_transform(transf + ax.transData)\n",
    "    return ax.add_patch(ellipse)"
   ]
  },
  {
   "cell_type": "code",
   "execution_count": 9,
   "metadata": {
    "slideshow": {
     "slide_type": "skip"
    }
   },
   "outputs": [],
   "source": [
    "def draw_vector(v0, v1, ax=None):\n",
    "    ax = ax or plt.gca()\n",
    "    arrowprops=dict(arrowstyle='->',\n",
    "                    linewidth=2,\n",
    "                    shrinkA=0, shrinkB=0)\n",
    "    ax.annotate('', v1, v0, arrowprops=arrowprops)"
   ]
  },
  {
   "cell_type": "code",
   "execution_count": 10,
   "metadata": {
    "slideshow": {
     "slide_type": "-"
    }
   },
   "outputs": [],
   "source": [
    "import numpy as np\n",
    "import matplotlib.pyplot as plt\n",
    "from sklearn.decomposition import PCA\n",
    "np.random.seed(1)\n",
    "X = np.dot(np.random.rand(2, 2), np.random.randn(2, 200)).T + np.random.rand(2)\n",
    "\n",
    "pca = PCA(n_components=2)\n",
    "X_pca = pca.fit_transform(X)"
   ]
  },
  {
   "cell_type": "code",
   "execution_count": 11,
   "metadata": {
    "slideshow": {
     "slide_type": "subslide"
    }
   },
   "outputs": [
    {
     "data": {
      "image/png": "[encoded data removed]",
      "text/plain": [
       "<Figure size 432x288 with 1 Axes>"
      ]
     },
     "metadata": {
      "needs_background": "light"
     },
     "output_type": "display_data"
    }
   ],
   "source": [
    "plt.scatter(X[:, 0], X[:, 1],alpha=0.5)\n",
    "confidence_ellipse(X[:, 0], X[:, 1]) # fit and plot the ellipse\n",
    "for length, vector in zip(pca.explained_variance_ratio_, pca.components_):\n",
    "    v = vector * 2 * np.sqrt(length)\n",
    "    draw_vector(pca.mean_, pca.mean_ + v)\n",
    "plt.axis('equal')\n",
    "plt.tight_layout()\n",
    "plt.show()"
   ]
  },
  {
   "cell_type": "markdown",
   "metadata": {
    "slideshow": {
     "slide_type": "slide"
    }
   },
   "source": [
    "# <font color='LIGHTGRAY'>Dimensionality reduction, and feature engineering\n",
    "- <font color='LIGHTGRAY'>Mud card</font>\n",
    "- <font color='LIGHTGRAY'>PCA</font>\n",
    "- **feature engineering**\n",
    "- <font color='LIGHTGRAY'>overview of what we learnt so far</font>\n"
   ]
  },
  {
   "cell_type": "markdown",
   "metadata": {
    "slideshow": {
     "slide_type": "slide"
    }
   },
   "source": [
    "## Feature engineering\n",
    "\n",
    "Automatic feature engineering:\n",
    "- combine features in a simple and automatic way (PolynomialFeatures method in sklearn)\n",
    "- if n_ftrs << n_points, this can modestly improve the predictive power of your model \n",
    "\n",
    "Manual feature engineering:\n",
    "- costly, difficult, project-specific, and requires domain knowledge of the data\n",
    "- it can boost the predictive power of your model!"
   ]
  },
  {
   "cell_type": "markdown",
   "metadata": {
    "slideshow": {
     "slide_type": "subslide"
    }
   },
   "source": [
    "### Automatic feature engineering"
   ]
  },
  {
   "cell_type": "code",
   "execution_count": 12,
   "metadata": {},
   "outputs": [
    {
     "name": "stdout",
     "output_type": "stream",
     "text": [
      "[[0 1]\n",
      " [2 3]\n",
      " [4 5]]\n",
      "[[ 1.  0.  1.  0.  0.  1.]\n",
      " [ 1.  2.  3.  4.  6.  9.]\n",
      " [ 1.  4.  5. 16. 20. 25.]]\n",
      "[[ 0.  1.  0.  0.  1.]\n",
      " [ 2.  3.  4.  6.  9.]\n",
      " [ 4.  5. 16. 20. 25.]]\n",
      "[[ 0.  1.  0.]\n",
      " [ 2.  3.  6.]\n",
      " [ 4.  5. 20.]]\n"
     ]
    }
   ],
   "source": [
    "import numpy as np\n",
    "from sklearn.preprocessing import PolynomialFeatures\n",
    "\n",
    "X = np.arange(6).reshape(3, 2)\n",
    "print(X)\n",
    "\n",
    "poly = PolynomialFeatures(2)\n",
    "print(poly.fit_transform(X)) # [1, a, b, a^2, ab, b^2]\n",
    "poly = PolynomialFeatures(2, include_bias=False)\n",
    "print(poly.fit_transform(X)) # [a, b, a^2, ab, b^2]\n",
    "poly = PolynomialFeatures(2,interaction_only=True, include_bias=False)\n",
    "print(poly.fit_transform(X)) # [a, b, ab]"
   ]
  },
  {
   "cell_type": "markdown",
   "metadata": {
    "slideshow": {
     "slide_type": "subslide"
    }
   },
   "source": [
    "### Manual feature engineering\n",
    "\n",
    "Some advice:\n",
    "- EDA can give you insights on how you should engineer and preprocess your features better\n",
    "- Example from HW2:"
   ]
  },
  {
   "cell_type": "markdown",
   "metadata": {
    "slideshow": {
     "slide_type": "-"
    }
   },
   "source": [
    "<center><img src=\"figures/hw2_fig.png\" width=\"600\"></center>"
   ]
  },
  {
   "cell_type": "markdown",
   "metadata": {
    "slideshow": {
     "slide_type": "subslide"
    }
   },
   "source": [
    "Some advice:\n",
    "\n",
    "- non-linear transformations can be helpful\n",
    "   - e.g., time series data and seasonal variations"
   ]
  },
  {
   "cell_type": "markdown",
   "metadata": {},
   "source": [
    "<center><img src=\"figures/date_transform.png\" width=\"600\"></center>"
   ]
  },
  {
   "cell_type": "markdown",
   "metadata": {
    "slideshow": {
     "slide_type": "slide"
    }
   },
   "source": [
    "# <font color='LIGHTGRAY'>Dimensionality reduction, and feature engineering</font>\n",
    "- <font color='LIGHTGRAY'>Mud card</font>\n",
    "- <font color='LIGHTGRAY'>PCA</font>\n",
    "- <font color='LIGHTGRAY'>feature engineering</font>\n",
    "- **overview of what we learnt so far**\n"
   ]
  },
  {
   "cell_type": "markdown",
   "metadata": {
    "slideshow": {
     "slide_type": "slide"
    }
   },
   "source": [
    "## Overview of what we learnt so far\n",
    "\n",
    "- pandas\n",
    "   - how to read in and manipulate data in python\n",
    "- Preprocessing with sklearn\n",
    "   - data needs to be prepared because ML models require numerical inputs in a specific format\n",
    "      - X feature matrix:\n",
    "         - only ints and floats, no NaNs, feature values on the order of unity (scaled)\n",
    "      - y target variable:\n",
    "         - ints (classification) or floats (regression)\n",
    "   - preprocessing tools\n",
    "      - encoders: one-hot or ordinal\n",
    "         - prepares categorical and ordinal features\n",
    "      - scalers: min-max or standard\n",
    "         - prepares continuouos features\n",
    "      - label encoder:\n",
    "         - prepares the classification labels, values need to be between 0 and n_classes - 1\n",
    "   - missing data - more on this in november\n",
    "      - MCAR, MAR, MNAR\n",
    "      - if mcar p value is > 0.05, drop the rows or columns with missing values or use multivariate imputation\n",
    "      - if mcar p value is < 0.05, use multivariate imputation"
   ]
  },
  {
   "cell_type": "markdown",
   "metadata": {
    "slideshow": {
     "slide_type": "subslide"
    }
   },
   "source": [
    "- EDA with matplotlib\n",
    "   - visualize your data to gain a deeper understanding of it\n",
    "   - list of visualization types we covered:\n",
    "      - bar and stacked bar plots: visualize a categorical feature or the classification label\n",
    "      - histogram: visualize a continuous feature or the regression target variable\n",
    "      - overlapping histograms, violin plot, box plot: visualize interactions between a continuous feature and a categorical feature or classficiation label\n",
    "      - scatter plot, heatmap: visualize interactions between a continuous feature and a continuous feature or a regression target variable\n",
    "      - visualize the correlation coefficient or other matrices with matshow\n",
    "      - scatter matrix\n",
    "   \n",
    "- other topics we touched on\n",
    "   - feature selection before ML - more on this in November\n",
    "   - dimensionality reduction\n",
    "   - feature engineering"
   ]
  },
  {
   "cell_type": "markdown",
   "metadata": {
    "slideshow": {
     "slide_type": "slide"
    }
   },
   "source": [
    "## Where are we in the supervised ML pipeline?\n",
    "- data is in a pandas data frame\n",
    "- features are preprocessed, visualized and understood\n",
    "- labels are preprocessed if necessary\n",
    "- missing values have been dealt with\n",
    "- features were selected or engineered"
   ]
  },
  {
   "cell_type": "markdown",
   "metadata": {
    "slideshow": {
     "slide_type": "slide"
    }
   },
   "source": [
    "## What's next?\n",
    "- decide what metric we will use to evaluate the supervised ML model (2 lectures)\n",
    "- learn about the various supervised ML models and their hyperparameters (2 lectures)\n",
    "- put together the hyper parameter tuning and cross-validation pipeline (2 lectures)\n",
    "- train your model and interpret it (in November)\n"
   ]
  },
  {
   "cell_type": "markdown",
   "metadata": {
    "slideshow": {
     "slide_type": "slide"
    }
   },
   "source": []
  }
 ],
 "metadata": {
  "celltoolbar": "Slideshow",
  "kernelspec": {
   "display_name": "Python 3",
   "language": "python",
   "name": "python3"
  },
  "language_info": {
   "codemirror_mode": {
    "name": "ipython",
    "version": 3
   },
   "file_extension": ".py",
   "mimetype": "text/x-python",
   "name": "python",
   "nbconvert_exporter": "python",
   "pygments_lexer": "ipython3",
   "version": "3.6.7"
  }
 },
 "nbformat": 4,
 "nbformat_minor": 2
}
