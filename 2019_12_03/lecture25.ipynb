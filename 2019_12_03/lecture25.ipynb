{
 "cells": [
  {
   "cell_type": "markdown",
   "metadata": {
    "slideshow": {
     "slide_type": "slide"
    }
   },
   "source": [
    "## Overview of the  rest of the term\n",
    "- final project submission deeadline: December 3, 11:59pm\n",
    "- final project presentations: December 4, 5, 6, 4pm to 6:30pm in 275 (one floor below DSI)\n",
    "- thursday's lecture is review\n",
    "   - bring questions or ask me on piazza\n",
    "- final exam: December 10\n",
    "   - closed book written exam, lasts an hour\n",
    "- grades by December 17-18\n",
    "- final grades submitted by December 20"
   ]
  },
  {
   "cell_type": "markdown",
   "metadata": {
    "slideshow": {
     "slide_type": "slide"
    }
   },
   "source": [
    "## Deployment and continuous monitoring\n",
    "By the end of this lecture, you will be able to\n",
    "- Describe A/B testing and when it's not the right approach to test\n",
    "- Describe common challenges with deployment\n",
    "- Develop strategies to monitor a deployed ML model\n"
   ]
  },
  {
   "cell_type": "markdown",
   "metadata": {
    "slideshow": {
     "slide_type": "slide"
    }
   },
   "source": [
    "- you put together the ML pipeline (splitting, preprocessing, parameter tuning)\n",
    "- tried a couple of supervised ML algorithms\n",
    "- you have a test score with uncertainty\n",
    "- feature importance metrics\n",
    "- you understand and trust your model\n",
    "## ... now what?\n"
   ]
  },
  {
   "cell_type": "markdown",
   "metadata": {
    "slideshow": {
     "slide_type": "slide"
    }
   },
   "source": [
    "## It is time to deploy the model!\n",
    "- up to now you played in a sandbox\n",
    "   - you worked with historical data\n",
    "   - no actual decisions were made based on the work you did so far\n",
    "- once your model is deployed, it will replace whatever decision making process was in place until now\n",
    "   - this is done carefully and gradually"
   ]
  },
  {
   "cell_type": "markdown",
   "metadata": {
    "slideshow": {
     "slide_type": "slide"
    }
   },
   "source": [
    "## Typical scenario\n",
    "- you get more recent data and you need to apply your model to it (pre-deployment)\n",
    "- A/B testing (your model is partially deployed)\n",
    "   - evidence-based comparison of the ML approach and the previous decision making process\n",
    "- if your model is better than the previous decision making process, your model will replace it (full deployment)"
   ]
  },
  {
   "cell_type": "markdown",
   "metadata": {
    "slideshow": {
     "slide_type": "slide"
    }
   },
   "source": [
    "<font color='LIGHTGRAY'>By the end of this lecture, you will be able to</font>\n",
    "- **Describe A/B testing and when it's not the right approach to test**\n",
    "- <font color='LIGHTGRAY'>Describe common challenges with deployment</font>\n",
    "- <font color='LIGHTGRAY'>Develop strategies to monitor a deployed ML model</font>\n"
   ]
  },
  {
   "cell_type": "markdown",
   "metadata": {
    "slideshow": {
     "slide_type": "slide"
    }
   },
   "source": [
    "## A/B testing - example\n",
    "**My project with Advancement**\n",
    "- goal: predict how much alumni will donate in the upcoming fiscal year\n",
    "   - the predictions are used as target ask amounts in phone/mail/email communication\n",
    "- previous decision making process:\n",
    "   - a group of experts meet regularly for a couple of weeks to discuss the what a good target ask amount is\n",
    "   - very labor-intensive and also somewhat subjective\n",
    "- a regression model was developed by my colleague and myself with R2 scores in the range of 0.7-0.8\n",
    "- it was time to test it"
   ]
  },
  {
   "cell_type": "markdown",
   "metadata": {
    "slideshow": {
     "slide_type": "subslide"
    }
   },
   "source": [
    "## A/B testing - example\n",
    "- Advancement created two groups:\n",
    "   - group A (control) - the previous decision making process was used to generate target ask amounts\n",
    "   - group B (treatment) - the regression model's prediction were used\n",
    "- alumni were randomly assigned to the two groups\n",
    "   - we checked that key demographic groups (race/gender/ethnicity) were more or less evenly distributed in the two groups\n",
    "- the only difference between the two groups were the decision making process used, everything else was the same.\n",
    "- we waited a year :D"
   ]
  },
  {
   "cell_type": "markdown",
   "metadata": {
    "slideshow": {
     "slide_type": "subslide"
    }
   },
   "source": [
    "## A/B testing - example\n",
    "- we compared the donations given by the two groups using statistical tests\n",
    "   - we used a two sided t test to compare the donation distributions in groups A and B\n",
    "- unfortunately we found that my model does not increase the amount the alumni donate \n",
    "- the model was still adopted by Advancement because it saves a ton of work for them\n",
    "   - several people's work time freed up so they can do better, more important things now\n",
    "- this year, my model completely replaced Advancement's previous decision making process"
   ]
  },
  {
   "cell_type": "markdown",
   "metadata": {
    "slideshow": {
     "slide_type": "slide"
    }
   },
   "source": [
    "## A/B testing - general concept\n",
    "- create two groups usually semi-randomly\n",
    "   - if you have segments (groups of interest), make sure that the segments are more or less evenly represented in both groups\n",
    "- the two groups are similar in all but one aspect\n",
    "   - group A (control): the previous decision making process is applied on them\n",
    "   - group B (treatment): your new ML model is applied on them\n",
    "- wait for the results to come in\n",
    "- use a statistical test to compare the target variable of the two groups (see [here](https://en.wikipedia.org/wiki/A/B_testing#Common_test_statistics))"
   ]
  },
  {
   "cell_type": "markdown",
   "metadata": {
    "slideshow": {
     "slide_type": "subslide"
    }
   },
   "source": [
    "## A/B testing - estimate sample size\n",
    "- How many people should be in the two groups?\n",
    "   - Do we have segments?\n",
    "   - What difference in performance would you expect between the previous and the new decision making process?\n",
    "   - What is the distribution/type of the target variable? (determines the test you should use)\n",
    "   - What significance level (p value) would you like to achieve?"
   ]
  },
  {
   "cell_type": "markdown",
   "metadata": {
    "slideshow": {
     "slide_type": "subslide"
    }
   },
   "source": [
    "## A/B testing - estimate sample size\n",
    "An example:\n",
    "- we have segments\n",
    "- we have a classification model and the difference in accuracy is 5% between the previous and new processes\n",
    "   - previous process has an 80% accuracy\n",
    "   - new process has an 85% expected accuracy based on the mean test score\n",
    "- target variable is binary, we want to compare odds ratios (Fischer's exact test)\n",
    "- we are interested in a 0.01 or lower p value\n",
    "- **let's simulate this to estimate the sample size**"
   ]
  },
  {
   "cell_type": "code",
   "execution_count": 12,
   "metadata": {
    "slideshow": {
     "slide_type": "subslide"
    }
   },
   "outputs": [],
   "source": [
    "import numpy as np\n",
    "import scipy.stats as stats\n",
    "np.random.seed(0)\n",
    "n_samples = [500,1000,1500,2000] # sample size in a segment\n",
    "A_acc = 0.8 # accuracy in the control group\n",
    "B_acc = 0.85 # expected accuracy in the treatment group\n",
    "\n",
    "# let's loop through n, simulate data, apply t test to simulated data\n",
    "median_p = np.zeros(len(n_samples))\n",
    "upper_p = np.zeros(len(n_samples))\n",
    "lower_p = np.zeros(len(n_samples))\n",
    "for n in range(len(n_samples)):\n",
    "    p_vals = []\n",
    "    for i in range(100):\n",
    "        A_results = np.random.choice([0, 1], size=(n_samples[n]), p=[1-A_acc, A_acc])\n",
    "        B_results = np.random.choice([0, 1], size=(n_samples[n]), p=[1-B_acc, B_acc])\n",
    "        oddsratio, pvalue = stats.fisher_exact([[sum(A_results==0), sum(A_results==1)], [sum(B_results==0), sum(B_results==1)]])\n",
    "        p_vals.append(pvalue)\n",
    "        \n",
    "    median_p[n] = np.median(p_vals)\n",
    "    upper_p[n] = np.percentile(p_vals,84) # you can also do np.max(p_vals)\n",
    "    lower_p[n] = np.percentile(p_vals,16) # you can also do np.min(p_vals)\n"
   ]
  },
  {
   "cell_type": "code",
   "execution_count": 13,
   "metadata": {
    "slideshow": {
     "slide_type": "subslide"
    }
   },
   "outputs": [
    {
     "data": {
      "image/png": "[encoded data removed]",
      "text/plain": [
       "<Figure size 432x288 with 1 Axes>"
      ]
     },
     "metadata": {
      "needs_background": "light"
     },
     "output_type": "display_data"
    }
   ],
   "source": [
    "import matplotlib.pyplot as plt\n",
    "import matplotlib\n",
    "matplotlib.rcParams.update({'font.size': 16})\n",
    "plt.errorbar(n_samples,median_p,yerr=np.array([median_p-lower_p,upper_p-median_p]),capsize=5,fmt='o')\n",
    "plt.hlines(0.01,n_samples[0],n_samples[-1],color='r',label='critical p value')\n",
    "plt.xlabel('nr of samples')\n",
    "plt.ylabel('p value')\n",
    "plt.semilogy()\n",
    "plt.legend()\n",
    "plt.show()"
   ]
  },
  {
   "cell_type": "markdown",
   "metadata": {
    "slideshow": {
     "slide_type": "slide"
    }
   },
   "source": [
    "## A/B testing - when it is not the right approach\n",
    "- testing is not ethical\n",
    "   - [facebook scandal](https://techcrunch.com/2014/06/29/ethics-in-a-data-driven-world/)\n",
    "   - you need approval from Ethics Board or IRB\n",
    "- testing is approved but you want to minimize variations in user experience \n",
    "   - you shouldn't ask different users to pay different amounts for the same service\n",
    "   - they will start to complain :)\n",
    "   - multi-armed bandit is a good alternative to minimize costs like this (read about it [here](https://en.wikipedia.org/wiki/Multi-armed_bandit) and [here](https://towardsdatascience.com/when-and-when-not-to-a-b-test-c901f3ad96d9))"
   ]
  },
  {
   "cell_type": "markdown",
   "metadata": {
    "slideshow": {
     "slide_type": "slide"
    }
   },
   "source": [
    "<font color='LIGHTGRAY'>By the end of this lecture, you will be able to</font>\n",
    "- <font color='LIGHTGRAY'>Describe A/B testing and when it's not the right approach to test</font>\n",
    "- **Describe common challenges with deployment**\n",
    "- <font color='LIGHTGRAY'>Develop strategies to monitor a deployed ML model</font>\n"
   ]
  },
  {
   "cell_type": "markdown",
   "metadata": {
    "slideshow": {
     "slide_type": "slide"
    }
   },
   "source": [
    "## Once the model is tested and deployed, you are not done\n",
    "- incoming data properties can change\n",
    "   - feature distributions could slowly move away from what you had in training\n",
    "   - category ratios could change\n",
    "   - new classes could appear\n",
    "   - outliers in regression could become the new norm"
   ]
  },
  {
   "cell_type": "markdown",
   "metadata": {
    "slideshow": {
     "slide_type": "slide"
    }
   },
   "source": [
    "<font color='LIGHTGRAY'>By the end of this lecture, you will be able to</font>\n",
    "- <font color='LIGHTGRAY'>Describe A/B testing and when it's not the right approach to test</font>\n",
    "- <font color='LIGHTGRAY'>Describe common challenges with deployment</font>\n",
    "- **Develop strategies to monitor a deployed ML model**"
   ]
  },
  {
   "cell_type": "markdown",
   "metadata": {
    "slideshow": {
     "slide_type": "slide"
    }
   },
   "source": [
    "## What to do?\n",
    "- incoming data needs to be monitored\n",
    "- keep an eye on feature statistics and the target variable properties\n",
    "- if you see the data changing, retrain your model"
   ]
  },
  {
   "cell_type": "markdown",
   "metadata": {
    "slideshow": {
     "slide_type": "slide"
    }
   },
   "source": [
    "\n",
    "By now you know\n",
    "- Describe A/B testing and when it's not the right approach to test\n",
    "- Describe common challenges with deployment\n",
    "- Develop strategies to monitor a deployed ML model\n"
   ]
  }
 ],
 "metadata": {
  "celltoolbar": "Slideshow",
  "kernelspec": {
   "display_name": "Python 3",
   "language": "python",
   "name": "python3"
  },
  "language_info": {
   "codemirror_mode": {
    "name": "ipython",
    "version": 3
   },
   "file_extension": ".py",
   "mimetype": "text/x-python",
   "name": "python",
   "nbconvert_exporter": "python",
   "pygments_lexer": "ipython3",
   "version": "3.6.7"
  }
 },
 "nbformat": 4,
 "nbformat_minor": 2
}
