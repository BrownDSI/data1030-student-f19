{
 "cells": [
  {
   "cell_type": "markdown",
   "metadata": {
    "slideshow": {
     "slide_type": "slide"
    }
   },
   "source": [
    "## <center> Go to piazza and open today's lecture notes in the hub! </center>\n",
    "## <center> https://piazza.com/class/jzioyk40mhs6r2 </center>\n",
    "## <center> Let's go to tophat for attendance! </center>\n",
    "## <center> https://app.tophat.com/e/245218 </center>"
   ]
  },
  {
   "cell_type": "markdown",
   "metadata": {
    "slideshow": {
     "slide_type": "slide"
    }
   },
   "source": [
    "## Project descriptions\n",
    "- Don't throw features out based on your hunch!\n",
    "   - Saying that 'I don't think this feature is predictive so I dropped it' is a big no-no.\n",
    "   - You should provide a data-driven argument why you drop a feature (mutual info or f-test is a minimum).\n",
    "- LabelEncoder is not to be used on features.\n",
    "- If a categorical feature contains only 0s and 1s, there is no need to do preprocessing.\n",
    "- If a continuous feature is already between 0 and 1 (e.g., a fraction), there is no need to do preprocessing."
   ]
  },
  {
   "cell_type": "markdown",
   "metadata": {
    "slideshow": {
     "slide_type": "subslide"
    }
   },
   "source": [
    "- if UCI says 'missing values are represented with 999', you shouldn't immediately apply a min-max or standard scaler to the feature\n",
    "   - replace 999 with np.nan\n",
    "- Make an informed decision on what you do with your missing values!\n",
    "   - mean/median imputation is another big no-no\n",
    "   - run the mcar test\n",
    "   - count the fraction of points with missing values, and fraction of missing values per columns\n",
    "   - then decide what to do based on the findings\n",
    "- Please reference previous work!\n",
    "   - cite papers\n",
    "   - add links to kaggle kernels\n",
    "- Please clean up your github repos"
   ]
  },
  {
   "cell_type": "markdown",
   "metadata": {
    "slideshow": {
     "slide_type": "slide"
    }
   },
   "source": [
    "## Mud card\n",
    "- **Can you consider a classification problem with >2 classes to be a series of binary classifcation problems (each with class of interest vs all other classes)?**\n",
    "   - yes, that's called one-vs-all classifier\n",
    "   - the other (more computationally intensive) approach is a one-vs-one classifier\n",
    "   - more info on this [here](https://scikit-learn.org/stable/modules/multiclass.html)"
   ]
  },
  {
   "cell_type": "markdown",
   "metadata": {
    "slideshow": {
     "slide_type": "subslide"
    }
   },
   "source": [
    "- **Can we play with the training data itself like sampling to deal with unbalanced data?**\n",
    "- **It would be nice to have links to discussions of when a dataset is imbalanced**\n",
    "   - imbalanced problems are inherently difficult\n",
    "   - undersampling the majority class or oversampling the minority class are often done to improve the balance\n",
    "      - such approaches can be misleading because when the model is deployed, the data remain as imbalanced as before\n",
    "      - confusion matrix example\n",
    "   - my advice:\n",
    "      - find simple rules that let you exclude a large fraction of condition negative samples **before** ML is done\n",
    "      - use the f1 score or some other metric that is not based on true negatives\n",
    "      - some ML algos are better with imbalanced data than others, try a few \n",
    "         - e.g., tree-based methods often let you assign larger weights to the minority class"
   ]
  },
  {
   "cell_type": "markdown",
   "metadata": {
    "slideshow": {
     "slide_type": "subslide"
    }
   },
   "source": [
    "- **Can you explain what f-score does and how to use it to evaluate the performance of a classifier?**\n",
    "- **What's the theory behind f_1 score?**\n",
    "   - f_beta = (1 + beta^2) P R / ( beta^2 * P + R)\n",
    "   - P alone and R alone are often not enough to evaluate a classifier because they are based on only 2 elements of the confusion matrix\n",
    "   - the f score is their weighted harmonic mean\n",
    "      - beta = 1: the weight of P and R are the same\n",
    "      - beta < 1: more weight to precision\n",
    "      - beta > 1: more weight to recall\n",
    "- read more on model evaluation [here](https://scikit-learn.org/stable/modules/model_evaluation.html)"
   ]
  },
  {
   "cell_type": "markdown",
   "metadata": {
    "slideshow": {
     "slide_type": "slide"
    }
   },
   "source": [
    "## Evaluation metrics in supervised ML, part 2, predicted probabilities and regression\n",
    "\n",
    "By the end of this lecture, you will be able to\n",
    "- Summarize the ROC and precision-recall curves, and the logloss metric\n",
    "- Describe the most commonly used regression metrics\n"
   ]
  },
  {
   "cell_type": "markdown",
   "metadata": {
    "slideshow": {
     "slide_type": "slide"
    }
   },
   "source": [
    "## <font color='LIGHTGRAY'> Evaluation metrics in supervised ML, part 2, predicted probabilities and regression</font>\n",
    "\n",
    "<font color='LIGHTGRAY'>By the end of this lecture, you will be able to</font>\n",
    "- **Summarize the ROC and precision-recall curves, and the logloss metric**\n",
    "- <font color='LIGHTGRAY'>Describe the most commonly used regression metrics</font>\n"
   ]
  },
  {
   "cell_type": "markdown",
   "metadata": {
    "slideshow": {
     "slide_type": "slide"
    }
   },
   "source": [
    "### The ROC curve\n",
    "- Receiver Operating Characteristic\n",
    "   - x axis: false positive rate (fpr = FP / (FP + TN))\n",
    "   - y axis: true positive rate (R = TP / (TP + FN))\n",
    "   - the curve shows fpr and R value pairs for various class 1 critical probabilities\n",
    "- upper left corner: perfect predictor\n",
    "- diagonal point: chance level predictions\n",
    "- lower right corner: worst predictor"
   ]
  },
  {
   "cell_type": "code",
   "execution_count": 10,
   "metadata": {
    "slideshow": {
     "slide_type": "subslide"
    }
   },
   "outputs": [],
   "source": [
    "import pandas as pd\n",
    "import matplotlib.pyplot as plt\n",
    "import numpy as np\n",
    "from sklearn.metrics import confusion_matrix\n",
    "df = pd.read_csv('data/true_labels_pred_probs.csv')\n",
    "\n",
    "y_true = df['y_true']\n",
    "pred_prob_class1 = df['pred_prob_class1']\n",
    "\n",
    "fpr = np.zeros(len(y_true))\n",
    "tpr = np.zeros(len(y_true))\n",
    "\n",
    "p_crits = np.sort(pred_prob_class1) # the sorted predicted probabilities serve as critical probabilities\n",
    "\n",
    "for i in range(len(p_crits)):\n",
    "    p_crit = p_crits[i]\n",
    "    \n",
    "    y_pred = np.zeros(len(y_true))\n",
    "    y_pred[pred_prob_class1 < p_crit] = 0\n",
    "    y_pred[pred_prob_class1 >= p_crit] = 1\n",
    "    \n",
    "    C = confusion_matrix(y_true,y_pred) \n",
    "    \n",
    "    tpr[i] = C[1,1]/(C[1,0]+C[1,1])\n",
    "    fpr[i] = C[0,1]/(C[0,0]+C[0,1])\n",
    "    "
   ]
  },
  {
   "cell_type": "code",
   "execution_count": 2,
   "metadata": {
    "slideshow": {
     "slide_type": "subslide"
    }
   },
   "outputs": [
    {
     "data": {
      "image/png": "[encoded data removed]",
      "text/plain": [
       "<Figure size 432x288 with 1 Axes>"
      ]
     },
     "metadata": {
      "needs_background": "light"
     },
     "output_type": "display_data"
    }
   ],
   "source": [
    "plt.plot(fpr,tpr)\n",
    "plt.xlabel('fpr')\n",
    "plt.ylabel('tpr')\n",
    "plt.title('ROC curve')\n",
    "plt.show()"
   ]
  },
  {
   "cell_type": "markdown",
   "metadata": {
    "slideshow": {
     "slide_type": "slide"
    }
   },
   "source": [
    "## Exercise 1\n",
    "What's the (fpr,tpr) coordinate on the ROC curve if p_crit = 1?"
   ]
  },
  {
   "cell_type": "markdown",
   "metadata": {
    "slideshow": {
     "slide_type": "-"
    }
   },
   "source": []
  },
  {
   "cell_type": "code",
   "execution_count": 3,
   "metadata": {
    "slideshow": {
     "slide_type": "subslide"
    }
   },
   "outputs": [
    {
     "name": "stdout",
     "output_type": "stream",
     "text": [
      "1 90 0.9945233669173535\n",
      "21 90 0.8211293919918673\n",
      "41 90 0.6028657812522096\n",
      "61 90 0.4129907535897641\n",
      "81 90 0.1286071446570628\n"
     ]
    },
    {
     "data": {
      "image/png": "[encoded data removed]",
      "text/plain": [
       "<Figure size 432x288 with 1 Axes>"
      ]
     },
     "metadata": {
      "needs_background": "light"
     },
     "output_type": "display_data"
    }
   ],
   "source": [
    "from sklearn.metrics import roc_curve\n",
    "\n",
    "fpr,tpr,p_crits = roc_curve(y_true,pred_prob_class1)\n",
    "\n",
    "plt.plot(fpr,tpr)\n",
    "for i in np.arange(len(p_crits))[1::20]:\n",
    "    print(i,len(p_crits),p_crits[i])\n",
    "    plt.scatter(fpr[i],tpr[i],label=str(np.around(p_crits[i],2)))\n",
    "plt.legend()\n",
    "plt.xlabel('fpr')\n",
    "plt.ylabel('tpr')\n",
    "plt.title('ROC curve')\n",
    "plt.show()"
   ]
  },
  {
   "cell_type": "markdown",
   "metadata": {
    "slideshow": {
     "slide_type": "slide"
    }
   },
   "source": [
    "## ROC AUC\n",
    "- ROC is useful but it is not a single number metric\n",
    "   - it cannot be directly used to compare various classification models\n",
    "- summary statistics based on the ROC curve (for a complete list, see [here](https://en.wikipedia.org/wiki/Receiver_operating_characteristic#Further_interpretations))\n",
    "- most commonly used metric is ROC AUC - ROC Area Under the Curve\n",
    "   - ROC AUC 0.5 is a chance-level classifier\n",
    "   - AUC > 0.5 is above chance-level predictor\n",
    "   - AUC < 0.5 is a bad predictor"
   ]
  },
  {
   "cell_type": "code",
   "execution_count": 4,
   "metadata": {},
   "outputs": [
    {
     "name": "stdout",
     "output_type": "stream",
     "text": [
      "0.9236524315231854\n"
     ]
    }
   ],
   "source": [
    "from sklearn.metrics import roc_auc_score\n",
    "print(roc_auc_score(y_true,pred_prob_class1))"
   ]
  },
  {
   "cell_type": "markdown",
   "metadata": {
    "slideshow": {
     "slide_type": "slide"
    }
   },
   "source": [
    "## Precision-recall curve\n",
    "- the drawback of ROC is that it uses TN, not good for imbalanced problems.\n",
    "- the precision-recall curve doesn't use TN, ideal for imbalanced problems."
   ]
  },
  {
   "cell_type": "code",
   "execution_count": 13,
   "metadata": {},
   "outputs": [
    {
     "name": "stdout",
     "output_type": "stream",
     "text": [
      "0.9315588971251673\n"
     ]
    }
   ],
   "source": [
    "from sklearn.metrics import precision_recall_curve\n",
    "from sklearn.metrics import average_precision_score # the AUC of the P-R curve\n",
    "\n",
    "p,r,p_crits = precision_recall_curve(y_true,pred_prob_class1)\n",
    "\n",
    "print(average_precision_score(y_true,pred_prob_class1))"
   ]
  },
  {
   "cell_type": "code",
   "execution_count": 14,
   "metadata": {
    "slideshow": {
     "slide_type": "subslide"
    }
   },
   "outputs": [
    {
     "data": {
      "image/png": "[encoded data removed]",
      "text/plain": [
       "<Figure size 432x288 with 1 Axes>"
      ]
     },
     "metadata": {
      "needs_background": "light"
     },
     "output_type": "display_data"
    }
   ],
   "source": [
    "plt.plot(p,r)\n",
    "plt.xlabel('precision')\n",
    "plt.ylabel('recall')\n",
    "plt.title('P-R curve')\n",
    "plt.show()\n"
   ]
  },
  {
   "cell_type": "markdown",
   "metadata": {
    "slideshow": {
     "slide_type": "slide"
    }
   },
   "source": [
    "## Exercise 2\n",
    "What's the (p,r) coordinate on the curve if p_crit = 0?"
   ]
  },
  {
   "cell_type": "markdown",
   "metadata": {
    "slideshow": {
     "slide_type": "-"
    }
   },
   "source": []
  },
  {
   "cell_type": "code",
   "execution_count": 7,
   "metadata": {
    "slideshow": {
     "slide_type": "subslide"
    }
   },
   "outputs": [
    {
     "name": "stdout",
     "output_type": "stream",
     "text": [
      "0 337 0.03488548943221837\n",
      "100 337 0.3608915590301473\n",
      "200 337 0.8697218168754424\n",
      "300 337 0.9683559426556864\n"
     ]
    },
    {
     "data": {
      "image/png": "[encoded data removed]",
      "text/plain": [
       "<Figure size 432x288 with 1 Axes>"
      ]
     },
     "metadata": {
      "needs_background": "light"
     },
     "output_type": "display_data"
    }
   ],
   "source": [
    "plt.plot(p,r)\n",
    "for i in np.arange(len(p_crits))[::100]:\n",
    "    print(i,len(p_crits),p_crits[i])\n",
    "    plt.scatter(p[i],r[i],label=str(np.around(p_crits[i],2)))\n",
    "plt.legend()\n",
    "plt.xlabel('precision')\n",
    "plt.ylabel('recall')\n",
    "plt.title('P-R curve')\n",
    "plt.show()"
   ]
  },
  {
   "cell_type": "markdown",
   "metadata": {
    "slideshow": {
     "slide_type": "slide"
    }
   },
   "source": [
    "## The logloss metric\n",
    "\n",
    "### <center>$logloss = - \\frac{1}{N}\\sum (y_{true}\\ln(p_{pred}) + (1-y_{true})(1-\\ln(1-p_{pred})))$</center>\n",
    "- $p_{pred}$ is the predicted probability of the **positive class**\n",
    "- the predicted probabilities are not converted into predicted classes\n",
    "- two scenarios:\n",
    "   - y_true = 0 - left term disappears\n",
    "   - y_true = 1 - right term disappears\n",
    "- log(0) is undefined\n",
    "   - $p_{pred}$ is replaced with $\\max(\\min(p,1-10^{-15}),10^{-15})$ to avoid this issue"
   ]
  },
  {
   "cell_type": "markdown",
   "metadata": {
    "slideshow": {
     "slide_type": "subslide"
    }
   },
   "source": [
    "### The extreme cases\n",
    "- the classifier is confidently wrong\n",
    "   - $p_{pred} = 10^{-15}$ for points in class 1\n",
    "   - $p_{pred} = 1 - 10^{-15}$ for points in class 0\n",
    "<center>$logloss = -\\frac{1}{N}\\sum \\ln(10^{-15}) = -\\ln(10^{-15})$</center>\n",
    "<center> $logloss \\sim  34.5  $</center>\n",
    "\n",
    "- the classifier is correct\n",
    "   - $p_{pred} = 10^{-15}$ for points in class 0\n",
    "   - $p_{pred} = 1 - 10^{-15}$ for points in class 1\n",
    "<center>$logloss = -\\frac{1}{N}\\sum (1-0)(1-\\ln(1-10^{-15})) = 10^{-15}$ for class 0</center>\n",
    "<center>$logloss = -\\frac{1}{N}\\sum 1*\\ln(1-10^{-15}) = 10^{-15}$ for class 1</center>\n",
    "<center>$logloss \\sim 0$</center>\n",
    "\n"
   ]
  },
  {
   "cell_type": "code",
   "execution_count": 8,
   "metadata": {
    "slideshow": {
     "slide_type": "subslide"
    }
   },
   "outputs": [
    {
     "name": "stdout",
     "output_type": "stream",
     "text": [
      "0.35015190545328556\n",
      "Help on function log_loss in module sklearn.metrics.classification:\n",
      "\n",
      "log_loss(y_true, y_pred, eps=1e-15, normalize=True, sample_weight=None, labels=None)\n",
      "    Log loss, aka logistic loss or cross-entropy loss.\n",
      "    \n",
      "    This is the loss function used in (multinomial) logistic regression\n",
      "    and extensions of it such as neural networks, defined as the negative\n",
      "    log-likelihood of the true labels given a probabilistic classifier's\n",
      "    predictions. The log loss is only defined for two or more labels.\n",
      "    For a single sample with true label yt in {0,1} and\n",
      "    estimated probability yp that yt = 1, the log loss is\n",
      "    \n",
      "        -log P(yt|yp) = -(yt log(yp) + (1 - yt) log(1 - yp))\n",
      "    \n",
      "    Read more in the :ref:`User Guide <log_loss>`.\n",
      "    \n",
      "    Parameters\n",
      "    ----------\n",
      "    y_true : array-like or label indicator matrix\n",
      "        Ground truth (correct) labels for n_samples samples.\n",
      "    \n",
      "    y_pred : array-like of float, shape = (n_samples, n_classes) or (n_samples,)\n",
      "        Predicted probabilities, as returned by a classifier's\n",
      "        predict_proba method. If ``y_pred.shape = (n_samples,)``\n",
      "        the probabilities provided are assumed to be that of the\n",
      "        positive class. The labels in ``y_pred`` are assumed to be\n",
      "        ordered alphabetically, as done by\n",
      "        :class:`preprocessing.LabelBinarizer`.\n",
      "    \n",
      "    eps : float\n",
      "        Log loss is undefined for p=0 or p=1, so probabilities are\n",
      "        clipped to max(eps, min(1 - eps, p)).\n",
      "    \n",
      "    normalize : bool, optional (default=True)\n",
      "        If true, return the mean loss per sample.\n",
      "        Otherwise, return the sum of the per-sample losses.\n",
      "    \n",
      "    sample_weight : array-like of shape = [n_samples], optional\n",
      "        Sample weights.\n",
      "    \n",
      "    labels : array-like, optional (default=None)\n",
      "        If not provided, labels will be inferred from y_true. If ``labels``\n",
      "        is ``None`` and ``y_pred`` has shape (n_samples,) the labels are\n",
      "        assumed to be binary and are inferred from ``y_true``.\n",
      "        .. versionadded:: 0.18\n",
      "    \n",
      "    Returns\n",
      "    -------\n",
      "    loss : float\n",
      "    \n",
      "    Examples\n",
      "    --------\n",
      "    >>> from sklearn.metrics import log_loss\n",
      "    >>> log_loss([\"spam\", \"ham\", \"ham\", \"spam\"],  # doctest: +ELLIPSIS\n",
      "    ...          [[.1, .9], [.9, .1], [.8, .2], [.35, .65]])\n",
      "    0.21616...\n",
      "    \n",
      "    References\n",
      "    ----------\n",
      "    C.M. Bishop (2006). Pattern Recognition and Machine Learning. Springer,\n",
      "    p. 209.\n",
      "    \n",
      "    Notes\n",
      "    -----\n",
      "    The logarithm used is the natural logarithm (base-e).\n",
      "\n"
     ]
    }
   ],
   "source": [
    "from sklearn.metrics import log_loss\n",
    "print(log_loss(y_true,pred_prob_class1))\n",
    "help(log_loss)"
   ]
  },
  {
   "cell_type": "markdown",
   "metadata": {
    "slideshow": {
     "slide_type": "slide"
    }
   },
   "source": [
    "## <font color='LIGHTGRAY'> Evaluation metrics in supervised ML, part 2, predicted probabilities and regression</font>\n",
    "\n",
    "<font color='LIGHTGRAY'>By the end of this lecture, you will be able to</font>\n",
    "- <font color='LIGHTGRAY'>Summarize the ROC and precision-recall curves, and the logloss metric</font>\n",
    "- **Describe the most commonly used regression metrics**\n"
   ]
  },
  {
   "cell_type": "markdown",
   "metadata": {
    "slideshow": {
     "slide_type": "subslide"
    }
   },
   "source": [
    "## Regression metrics\n",
    "- the target variable is continuous\n",
    "- the predicted values are also continuous\n",
    "- regression metrics measure some type of difference between y (true values) and y' (predicted values)"
   ]
  },
  {
   "cell_type": "markdown",
   "metadata": {
    "slideshow": {
     "slide_type": "subslide"
    }
   },
   "source": [
    "### Mean Squared Error \n",
    "\n",
    "### <center>$MSE(y,y') = \\frac{1}{n}\\sum_{i=1}^{n}(y_i-y_i')^2$</center>\n",
    "\n",
    "<center><img src=\"figures/polifit_1.jpg\" width=\"450\"></center>\n",
    "\n",
    "#### The unit of MSE is not the same as the target variable."
   ]
  },
  {
   "cell_type": "markdown",
   "metadata": {
    "slideshow": {
     "slide_type": "subslide"
    }
   },
   "source": [
    "### Root Mean Square Error\n",
    "\n",
    "### <center>$RMSE(y,y') = \\sqrt{\\frac{1}{n}\\sum_{i=1}^{n}(y_i-y_i')^2}$</center>\n",
    "\n",
    "\n",
    "### Mean Absolute Error\n",
    "\n",
    "### <center>$MAE(y,y') = \\frac{1}{n}\\sum_{i=1}^{n}|y_i-y_i'|$</center>\n",
    "\n",
    "#### Both RMSE and MAE have the same unit as the target variable.\n"
   ]
  },
  {
   "cell_type": "markdown",
   "metadata": {
    "slideshow": {
     "slide_type": "subslide"
    }
   },
   "source": [
    "## R2 score - coefficient of determination\n",
    "\n",
    "### <center>$R^2(y,y') = 1 - \\frac{\\sum_{i=1}^{n}(y_i-y_i')^2}{\\sum_{i=1}^{n}(y_i-\\bar{y})^2}$,</center>\n",
    "<center>where $\\bar{y}$ is the mean of $y$.</center>\n",
    "\n",
    "- R2 = 1 is the perfect regression model ($y == y'$)\n",
    "- R2 = 0 is as good as a constant model that always predicts the expected value of y ($\\bar{y}$)\n",
    "- R2 < 0 is a bad regression model\n",
    "\n",
    "#### R2 is dimensionless."
   ]
  },
  {
   "cell_type": "code",
   "execution_count": 9,
   "metadata": {
    "slideshow": {
     "slide_type": "subslide"
    }
   },
   "outputs": [],
   "source": [
    "from sklearn.metrics import mean_squared_error\n",
    "from sklearn.metrics import mean_absolute_error\n",
    "from sklearn.metrics import r2_score"
   ]
  },
  {
   "cell_type": "markdown",
   "metadata": {
    "slideshow": {
     "slide_type": "-"
    }
   },
   "source": [
    "- RMSE is not implemented in sklearn, but you can calculate it as `np.sqrt(mean_squared_error(y_true,y_pred))`\n",
    "- you can find more on regression metrics [here](https://scikit-learn.org/stable/modules/model_evaluation.html#regression-metrics)"
   ]
  },
  {
   "cell_type": "markdown",
   "metadata": {
    "slideshow": {
     "slide_type": "slide"
    }
   },
   "source": [
    "Now you can\n",
    "- Summarize the ROC and precision-recall curves, and the logloss metric\n",
    "- Describe the most commonly used regression metrics\n"
   ]
  }
 ],
 "metadata": {
  "celltoolbar": "Slideshow",
  "kernelspec": {
   "display_name": "Python 3",
   "language": "python",
   "name": "python3"
  },
  "language_info": {
   "codemirror_mode": {
    "name": "ipython",
    "version": 3
   },
   "file_extension": ".py",
   "mimetype": "text/x-python",
   "name": "python",
   "nbconvert_exporter": "python",
   "pygments_lexer": "ipython3",
   "version": "3.6.7"
  }
 },
 "nbformat": 4,
 "nbformat_minor": 2
}
