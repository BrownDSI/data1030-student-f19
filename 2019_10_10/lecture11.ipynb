{
 "cells": [
  {
   "cell_type": "markdown",
   "metadata": {
    "slideshow": {
     "slide_type": "slide"
    }
   },
   "source": [
    "## <center> Go to piazza and open today's lecture notes in the hub! </center>\n",
    "## <center> https://piazza.com/class/jzioyk40mhs6r2 </center>\n",
    "## <center> Let's go to tophat for attendance! </center>\n",
    "## <center> https://app.tophat.com/e/245218 </center>"
   ]
  },
  {
   "cell_type": "markdown",
   "metadata": {
    "slideshow": {
     "slide_type": "slide"
    }
   },
   "source": [
    "## Mud card\n",
    "\n",
    "- **How can we do non-linear transformations (time series data and seasonal variations)?**"
   ]
  },
  {
   "cell_type": "code",
   "execution_count": 1,
   "metadata": {},
   "outputs": [
    {
     "name": "stdout",
     "output_type": "stream",
     "text": [
      "   day of year  sin-transformed day\n",
      "0          127             0.888057\n",
      "1           43             0.361714\n",
      "2           74             0.594727\n",
      "3          253             0.821477\n",
      "4          133             0.910605\n"
     ]
    }
   ],
   "source": [
    "import pandas as pd\n",
    "import numpy as np\n",
    "import matplotlib.pyplot as plt\n",
    "df = pd.DataFrame()\n",
    "# this is our original feature - day of the year\n",
    "df['day of year'] = np.random.randint(0,365,size=1000)\n",
    "\n",
    "# I add a new column to the database which is called 'sin transformed day'\n",
    "df['sin-transformed day'] = np.sin(df['day of year'] / 365e0 * np.pi)\n",
    "\n",
    "print(df.head())"
   ]
  },
  {
   "cell_type": "code",
   "execution_count": 2,
   "metadata": {
    "slideshow": {
     "slide_type": "subslide"
    }
   },
   "outputs": [
    {
     "data": {
      "image/png": "[encoded data removed]",
      "text/plain": [
       "<Figure size 432x288 with 1 Axes>"
      ]
     },
     "metadata": {
      "needs_background": "light"
     },
     "output_type": "display_data"
    }
   ],
   "source": [
    "plt.scatter(df['day of year'],df['sin-transformed day'])\n",
    "plt.xlabel('day of the year')\n",
    "plt.ylabel('sin-transformed day')\n",
    "plt.show()"
   ]
  },
  {
   "cell_type": "markdown",
   "metadata": {
    "slideshow": {
     "slide_type": "slide"
    }
   },
   "source": [
    "## Evaluation metrics in supervised ML, part 1, classification\n",
    "By the end of this lecture, you will be able to\n",
    "- Describe the terms in the confusion matrix\n",
    "- Summarize and compare derived metrics (e.g., accuracy, recall, precision, f score)\n",
    "- Choose a metric most appropriate for your problem\n"
   ]
  },
  {
   "cell_type": "markdown",
   "metadata": {
    "slideshow": {
     "slide_type": "subslide"
    }
   },
   "source": [
    "## Where are we in the supervised ML pipeline?\n",
    "- data is in a pandas data frame\n",
    "- features are preprocessed, visualized and understood\n",
    "- classification labels are preprocessed if necessary\n",
    "- missing values have been dealt with\n",
    "- features were selected or engineered if necessary"
   ]
  },
  {
   "cell_type": "markdown",
   "metadata": {
    "slideshow": {
     "slide_type": "subslide"
    }
   },
   "source": [
    "## What's next?\n",
    "- decide what metric we will use to evaluate the supervised ML model \n",
    "   - this is necessary even before we train the model\n",
    "   - we need to know what single number metric we will use to compare models and to select the best one\n",
    "- sklearn classifiers have two methods to return predictions\n",
    "   - .predict_proba which returns the probability that the point belongs to each class with shape (n_samples, n_classes)\n",
    "   - .predict which returns the predicted class for each point with shape (n_samples)"
   ]
  },
  {
   "cell_type": "markdown",
   "metadata": {
    "slideshow": {
     "slide_type": "subslide"
    }
   },
   "source": [
    "### .predict_proba vs. .predict\n",
    "\n",
    "`y_true = [1 0 1 1 0] # the true labels`\n",
    "\n",
    "`pred_probs = \n",
    "[[0.02796171 0.97203829]\n",
    " [0.89682444 0.10317556]\n",
    " [0.50104129 0.49895871]\n",
    " [0.13713222 0.86286778]\n",
    " [0.95707434 0.04292566]] # predicted probabilities show the model's confidence`\n",
    " \n",
    " `y_pred = [1 0 0 1 0] # predicted class`\n",
    " - pred_probs\n",
    "    - first column is the probability that the point belongs to class 0\n",
    "    - second column is the probability that the point belings to class 1\n",
    "    - the rows sum to 1\n",
    " - y_pred\n",
    "    - 0 if class 0 probability is equal or larger than 50% (or equivalently if class 1 probability is less than 50%)\n",
    "    - 1 if class 0 probability is less than 50% (or equivalently of class 1 probability is equal or larger than 50%)"
   ]
  },
  {
   "cell_type": "markdown",
   "metadata": {
    "slideshow": {
     "slide_type": "subslide"
    }
   },
   "source": [
    "### How to transform predicted probabilities to predicted class?"
   ]
  },
  {
   "cell_type": "code",
   "execution_count": 3,
   "metadata": {
    "slideshow": {
     "slide_type": "-"
    }
   },
   "outputs": [
    {
     "name": "stdout",
     "output_type": "stream",
     "text": [
      "[0 0 1 0 1 1 0 1 0 1]\n",
      "[0 1 1 0 0 1 0 0 0 1]\n"
     ]
    }
   ],
   "source": [
    "y_true = np.array([0,0,1,0,1,1,0,1,0,1]) # the true classification labels of the dataset\n",
    "# pred_probs_class1 is the second column of pred_probs\n",
    "pred_probs_class1 = np.array([0.3, 0.7,  0.55, 0.12, 0.45, 0.89, 0.41, 0.02, 0.29, 0.85])\n",
    "p_crit =  0.5\n",
    "\n",
    "# If predicted probability is < p_crit (by default 0.5), predicted class is 0, otherwise it is 1.\n",
    "y_pred = np.zeros(len(pred_probs_class1),dtype=int)\n",
    "y_pred[pred_probs_class1 < p_crit] = 0\n",
    "y_pred[pred_probs_class1 >= p_crit] = 1\n",
    "\n",
    "print(y_true)\n",
    "print(y_pred) # the predicted classification labels"
   ]
  },
  {
   "cell_type": "markdown",
   "metadata": {
    "slideshow": {
     "slide_type": "subslide"
    }
   },
   "source": [
    "Today we focus on evaluation metrics applicable to predicted classes!\n",
    "\n",
    "We work with y_true and y_pred arrays.\n",
    "\n",
    "Next week, we will work with metrics applicable to pred_probs and regression problems."
   ]
  },
  {
   "cell_type": "markdown",
   "metadata": {
    "slideshow": {
     "slide_type": "slide"
    }
   },
   "source": [
    "## <font color='LIGHTGRAY'>Evaluation metrics in supervised ML, part 1, classification</font>\n",
    "<font color='LIGHTGRAY'>By the end of this lecture, you will be able to</font>\n",
    "- **Describe the terms in the confusion matrix**\n",
    "- <font color='LIGHTGRAY'>Summarize and compare derived metrics (e.g., accuracy, recall, precision, f score)</font>\n",
    "- <font color='LIGHTGRAY'>Choose a metric most appropriate for your problem</font>\n"
   ]
  },
  {
   "cell_type": "markdown",
   "metadata": {
    "slideshow": {
     "slide_type": "subslide"
    }
   },
   "source": [
    "## The confusion matrix\n",
    "\n",
    "`y_true = [0, 0, 1, 0, 1, 1, 0, 1, 0, 1] # the true classification labels of the dataset`\n",
    "\n",
    "`y_pred = [0, 1, 1, 0, 0, 1, 0, 0, 0, 1] # the predicted classification labels`\n",
    "\n",
    "Let's count how many points we have in four categories:\n",
    "\n",
    "- true label is 0, predicted label is 0 - **True Negatives**\n",
    "- true label is 1, predicted label is 1 - **True Positives**\n",
    "- true label is 0, predicted label is 1 - **False Positive**\n",
    "- true label is 1, predicted label is 0 - **False Negative**\n",
    "\n",
    "Generally, the confusion matrix $C$ is such that $C_{i,j}$ is equal to the number of observations known to be in group $i$ but predicted to be in group $j$."
   ]
  },
  {
   "cell_type": "markdown",
   "metadata": {
    "slideshow": {
     "slide_type": "subslide"
    }
   },
   "source": [
    "## Back to our example:\n",
    "\n",
    "`y_true = [0, 0, 1, 0, 1, 1, 0, 1, 0, 1] # the true classification labels of the dataset`\n",
    "\n",
    "`y_pred = [0, 1, 1, 0, 0, 1, 0, 0, 0, 1] # the predicted classification labels`\n",
    "\n",
    "\n",
    "<table>\n",
    "    <tr>\n",
    "        <td colspan=\"2\" rowspan=\"2\"></td>\n",
    "        <td colspan=\"2\">Predicted class</td>\t\t\t\n",
    "    </tr>\n",
    "    <tr>\n",
    "        <td>Predicted Negative (0)</td>\n",
    "        <td>Predicted Positive (1)</td>\n",
    "    </tr>\n",
    "    <tr>\n",
    "        <td rowspan=\"2\">Actual class</td>\n",
    "        <td>Condition Negative (0)</td>\n",
    "        <td><b>True Negative (TN): 4</b></td>\n",
    "        <td><b>False Positive (FP): 1</b></td>\n",
    "    </tr>\n",
    "    <tr>\n",
    "        <td>Condition Positive (1)</td>\n",
    "        <td><b>False Negative (FN): 2</b></td>\n",
    "        <td><b>True Positive (TP): 3</b></td>\n",
    "    </tr>\n",
    "</table>\n"
   ]
  },
  {
   "cell_type": "markdown",
   "metadata": {
    "slideshow": {
     "slide_type": "subslide"
    }
   },
   "source": [
    "## In sklearn"
   ]
  },
  {
   "cell_type": "code",
   "execution_count": 4,
   "metadata": {},
   "outputs": [
    {
     "name": "stdout",
     "output_type": "stream",
     "text": [
      "[[4 1]\n",
      " [2 3]]\n"
     ]
    }
   ],
   "source": [
    "from sklearn.metrics import confusion_matrix\n",
    "\n",
    "y_true = [0,0,1,0,1,1,0,1,0,1]\n",
    "y_pred = [0,1,1,0,0,1,0,0,0,1]\n",
    "print(confusion_matrix(y_true,y_pred))"
   ]
  },
  {
   "cell_type": "code",
   "execution_count": 5,
   "metadata": {
    "slideshow": {
     "slide_type": "skip"
    }
   },
   "outputs": [],
   "source": [
    "# https://scikit-learn.org/stable/auto_examples/model_selection/plot_confusion_matrix.html\n",
    "import numpy as np\n",
    "import matplotlib.pyplot as plt\n",
    "from sklearn.utils.multiclass import unique_labels\n",
    "\n",
    "def plot_confusion_matrix(y_true, y_pred, classes,\n",
    "                          normalize=False,\n",
    "                          title=None,\n",
    "                          cmap=plt.cm.Blues):\n",
    "    \"\"\"\n",
    "    This function prints and plots the confusion matrix.\n",
    "    Normalization can be applied by setting `normalize=True`.\n",
    "    \"\"\"\n",
    "    if not title:\n",
    "        if normalize:\n",
    "            title = 'Normalized confusion matrix'\n",
    "        else:\n",
    "            title = 'Confusion matrix, without normalization'\n",
    "\n",
    "    # Compute confusion matrix\n",
    "    cm = confusion_matrix(y_true, y_pred)\n",
    "    # Only use the labels that appear in the data\n",
    "    classes = np.array(classes)\n",
    "    classes = classes[unique_labels(y_true, y_pred)]\n",
    "    if normalize:\n",
    "        cm = cm.astype('float') / cm.sum(axis=1)[:, np.newaxis]\n",
    "        \n",
    "    fig, ax = plt.subplots()\n",
    "    im = ax.imshow(cm, interpolation='nearest', cmap=cmap)\n",
    "    ax.figure.colorbar(im, ax=ax)\n",
    "    # We want to show all ticks...\n",
    "    ax.set(xticks=np.arange(cm.shape[1]),\n",
    "           yticks=np.arange(cm.shape[0]),\n",
    "           # ... and label them with the respective list entries\n",
    "           xticklabels=classes, yticklabels=classes,\n",
    "           title=title,\n",
    "           ylabel='True label',\n",
    "           xlabel='Predicted label')\n",
    "\n",
    "    # Rotate the tick labels and set their alignment.\n",
    "    plt.setp(ax.get_xticklabels(), rotation=45, ha=\"right\",\n",
    "             rotation_mode=\"anchor\")\n",
    "\n",
    "    # Loop over data dimensions and create text annotations.\n",
    "    fmt = '.2f' if normalize else 'd'\n",
    "    thresh = cm.max() / 2.\n",
    "    for i in range(cm.shape[0]):\n",
    "        for j in range(cm.shape[1]):\n",
    "            ax.text(j, i, format(cm[i, j], fmt),\n",
    "                    ha=\"center\", va=\"center\",\n",
    "                    color=\"white\" if cm[i, j] > thresh else \"black\")\n",
    "    fig.tight_layout()\n",
    "    return ax\n"
   ]
  },
  {
   "cell_type": "code",
   "execution_count": 6,
   "metadata": {
    "slideshow": {
     "slide_type": "subslide"
    }
   },
   "outputs": [
    {
     "data": {
      "image/png": "[encoded data removed]",
      "text/plain": [
       "<Figure size 432x288 with 2 Axes>"
      ]
     },
     "metadata": {
      "needs_background": "light"
     },
     "output_type": "display_data"
    }
   ],
   "source": [
    "plot_confusion_matrix(y_true,y_pred,classes=['not sick','sick'])\n",
    "plt.show()"
   ]
  },
  {
   "cell_type": "markdown",
   "metadata": {
    "slideshow": {
     "slide_type": "slide"
    }
   },
   "source": [
    "## Exercise 1\n",
    "\n",
    "Visualize the confusion matrix and calculate what fraction of the data points are correctly classified in the example below."
   ]
  },
  {
   "cell_type": "code",
   "execution_count": 7,
   "metadata": {},
   "outputs": [],
   "source": [
    "y_true = np.array([0,0,2,1,1,0,2,2,2,0,1,1,0,0,0,1])\n",
    "y_pred = np.array([0,1,0,1,0,0,2,2,1,0,1,1,0,0,1,2])\n"
   ]
  },
  {
   "cell_type": "markdown",
   "metadata": {
    "slideshow": {
     "slide_type": "slide"
    }
   },
   "source": [
    "## <font color='LIGHTGRAY'>Evaluation metrics in supervised ML, part 1, classification</font>\n",
    "<font color='LIGHTGRAY'>By the end of this lecture, you will be able to</font>\n",
    "- <font color='LIGHTGRAY'>Describe the terms in the confusion matrix</font>\n",
    "- **Summarize and compare derived metrics (e.g., accuracy, recall, precision, f score)**\n",
    "- <font color='LIGHTGRAY'>Choose a metric most appropriate for your problem</font>\n"
   ]
  },
  {
   "cell_type": "markdown",
   "metadata": {
    "slideshow": {
     "slide_type": "slide"
    }
   },
   "source": [
    "## Metrics derived from $C$\n",
    "$C$ contains $n_{classes}^2$ elements but we need a single number metric to easily compare various models.\n",
    "\n",
    "Some single number metrics derived from $C$:\n",
    "- accuracy: fraction of data points correctly classified\n",
    "   - $a = \\sum_i C_{i,i} / \\sum C$ = (TP + TN) / (TP + TN + FP + FN)\n",
    "- recall: what fraction of the condition positive samples are true positives?\n",
    "   - it measures the ability of the classifier to identify all positive samples\n",
    "   - in binary classification: R = TP / (TP + FN)\n",
    "- precision: what fraction of the predicted positive points are true positives?\n",
    "   - it measures the ability of the classifier to not predict a negative sample to be positive\n",
    "   - in binary classification: P = TP / (TP + FP)"
   ]
  },
  {
   "cell_type": "markdown",
   "metadata": {
    "slideshow": {
     "slide_type": "subslide"
    }
   },
   "source": [
    "<table>\n",
    "    <tr>\n",
    "        <td colspan=\"2\" rowspan=\"2\"></td>\n",
    "        <td colspan=\"2\">Predicted class</td>\t\t\t\n",
    "    </tr>\n",
    "    <tr>\n",
    "        <td>Predicted Negative (0)</td>\n",
    "        <td>Predicted Positive (1)</td>\n",
    "    </tr>\n",
    "    <tr>\n",
    "        <td rowspan=\"2\">Actual class</td>\n",
    "        <td>Condition Negative (0)</td>\n",
    "        <td><b>True Negative (TN)</b></td>\n",
    "        <td><b>False Positive (FP)</b></td>\n",
    "    </tr>\n",
    "    <tr>\n",
    "        <td>Condition Positive (1)</td>\n",
    "        <td><b>False Negative (FN)</b></td>\n",
    "        <td><b>True Positive (TP)</b></td>\n",
    "    </tr>\n",
    "</table>\n",
    "\n",
    "A = (TP + TN) / (TP + TN + FP + FN) \n",
    "\n",
    "R = TP / (TP + FN) = TP / CP\n",
    "\n",
    "P = TP / (TP + FP) = TP / PP"
   ]
  },
  {
   "cell_type": "markdown",
   "metadata": {
    "slideshow": {
     "slide_type": "subslide"
    }
   },
   "source": [
    "### The f_beta score\n",
    "Weighted harmonic mean of P and R:\n",
    "### <center> $f_{\\beta} = (1 + \\beta^2) \\frac{P R}{\\beta^2 P + R}$ </center>\n",
    "\n",
    "If $\\beta = 1$, we have the f1 score:\n",
    "### <center> $f_{1} = \\frac{P R}{P + R}$ </center>\n",
    "\n",
    "If $\\beta < 1$, more weight to precision.\n",
    "\n",
    "If $\\beta > 1$, more weight to recall.\n",
    "\n"
   ]
  },
  {
   "cell_type": "markdown",
   "metadata": {
    "slideshow": {
     "slide_type": "subslide"
    }
   },
   "source": [
    "### The scores are a function of p_crit"
   ]
  },
  {
   "cell_type": "code",
   "execution_count": 11,
   "metadata": {
    "slideshow": {
     "slide_type": "-"
    }
   },
   "outputs": [
    {
     "name": "stdout",
     "output_type": "stream",
     "text": [
      "[0 0 1 0 1 1 0 1 0 1]\n",
      "[0 1 1 0 0 1 0 0 0 1]\n",
      "accuracy 0.7\n",
      "recall 0.6\n",
      "precision 0.75\n",
      "f1 0.6666666666666665\n"
     ]
    }
   ],
   "source": [
    "from sklearn.metrics import precision_score, recall_score, accuracy_score, fbeta_score\n",
    "\n",
    "y_true = np.array([0,0,1,0,1,1,0,1,0,1]) # the true classification labels of the dataset\n",
    "y_pred_proba = np.array([0.3, 0.7,  0.55, 0.12, 0.45, 0.89, 0.41, 0.02, 0.29, 0.85])\n",
    "\n",
    "p_crit = 0.5\n",
    "\n",
    "y_pred = np.zeros(len(y_pred_proba),dtype=int)\n",
    "y_pred[y_pred_proba < p_crit] = 0\n",
    "y_pred[y_pred_proba >= p_crit] = 1\n",
    "\n",
    "print(y_true)\n",
    "print(y_pred) # the predicted classification labels\n",
    "print('accuracy',accuracy_score(y_true,y_pred))\n",
    "print('recall',recall_score(y_true,y_pred))\n",
    "print('precision',precision_score(y_true,y_pred))\n",
    "print('f1',fbeta_score(y_true,y_pred,1))"
   ]
  },
  {
   "cell_type": "markdown",
   "metadata": {
    "slideshow": {
     "slide_type": "slide"
    }
   },
   "source": [
    "## Exercise 2\n",
    "Given the true and predicted labels, what are the accuracy, recall, precision, and f1 scores? \n",
    "\n",
    "Do not use sklearn to answer the question! First construct the confusion matrix and then calculate the scores by hand!"
   ]
  },
  {
   "cell_type": "code",
   "execution_count": 10,
   "metadata": {},
   "outputs": [],
   "source": [
    "y_true = [0,0,0,1,1,1,0,0]\n",
    "y_pred = [0,1,0,1,1,0,0,0]"
   ]
  },
  {
   "cell_type": "markdown",
   "metadata": {
    "slideshow": {
     "slide_type": "slide"
    }
   },
   "source": [
    "## <font color='LIGHTGRAY'>Evaluation metrics in supervised ML, part 1, classification</font>\n",
    "<font color='LIGHTGRAY'>By the end of this lecture, you will be able to</font>\n",
    "- <font color='LIGHTGRAY'>Describe the terms in the confusion matrix</font>\n",
    "- <font color='LIGHTGRAY'>Summarize and compare derived metrics (e.g., accuracy, recall, precision, f score)</font>\n",
    "- **Choose a metric most appropriate for your problem**\n"
   ]
  },
  {
   "cell_type": "markdown",
   "metadata": {
    "slideshow": {
     "slide_type": "slide"
    }
   },
   "source": [
    "## How should you choose a metric?\n",
    "\n",
    "- What are the terms in the confusion matrix that you most (or least) care about?\n",
    "    - In an imbalanced dataset, TNs are large so you should use a metric that doesn't include TN\n",
    "    - no accuracy\n",
    "    - f1 score is usually preferred if your dataset is imbalanced\n",
    "- Will we act (intervene/apply treatment) on the model's prediction?\n",
    "    - Is it cheap to act? (e.g., mass email)\n",
    "       - we want to capture the largest fraction of the condition positive samples even if FPs will be large as a result\n",
    "       - recall or fbeta with beta > 1 (f1.5 is often used)\n",
    "    - Is it expensive to act? Do we have limited resources? Or treatment/action is costly?\n",
    "       - we want to make sure that the resources are allocated the best way possible\n",
    "       - want to make sure that a large fraction of the predicted positives are  true positives\n",
    "       - precision or fbeta with beta < 1 (f0.5 is often used)"
   ]
  },
  {
   "cell_type": "markdown",
   "metadata": {
    "slideshow": {
     "slide_type": "slide"
    }
   },
   "source": [
    "By now you can\n",
    "- Describe the terms in the confusion matrix\n",
    "- Summarize and compare derived metrics (e.g., accuracy, recall, precision, f score)\n",
    "- Choose a metric most appropriate for your problem\n"
   ]
  },
  {
   "cell_type": "code",
   "execution_count": null,
   "metadata": {},
   "outputs": [],
   "source": []
  }
 ],
 "metadata": {
  "celltoolbar": "Slideshow",
  "kernelspec": {
   "display_name": "Python 3",
   "language": "python",
   "name": "python3"
  },
  "language_info": {
   "codemirror_mode": {
    "name": "ipython",
    "version": 3
   },
   "file_extension": ".py",
   "mimetype": "text/x-python",
   "name": "python",
   "nbconvert_exporter": "python",
   "pygments_lexer": "ipython3",
   "version": "3.6.7"
  }
 },
 "nbformat": 4,
 "nbformat_minor": 2
}
