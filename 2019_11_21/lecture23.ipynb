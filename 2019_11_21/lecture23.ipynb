{
 "cells": [
  {
   "cell_type": "markdown",
   "metadata": {
    "slideshow": {
     "slide_type": "slide"
    }
   },
   "source": [
    "## Mud card\n",
    "- **Does gridsearchcv work for xgoost, or do we have a similar option to use?**\n",
    "   - yes, it does. XGBoost is compatible with sklearn so you can use it the same as any other sklearn supervised ML method\n",
    "- **Can we go over the missing patterns detection one more time**\n",
    "   - sure"
   ]
  },
  {
   "cell_type": "code",
   "execution_count": 1,
   "metadata": {
    "slideshow": {
     "slide_type": "skip"
    }
   },
   "outputs": [
    {
     "name": "stdout",
     "output_type": "stream",
     "text": [
      "(1460, 79)\n"
     ]
    }
   ],
   "source": [
    "# read the data\n",
    "import pandas as pd\n",
    "import numpy  as np\n",
    "from sklearn.model_selection import train_test_split\n",
    "\n",
    "# Let's load the data\n",
    "df = pd.read_csv('data/train.csv')\n",
    "# drop the ID\n",
    "df.drop(columns=['Id'],inplace=True)\n",
    "\n",
    "# the target variable\n",
    "y = df['SalePrice']\n",
    "df.drop(columns=['SalePrice'],inplace=True)\n",
    "# the unprocessed feature matrix\n",
    "X = df.values\n",
    "print(X.shape)\n",
    "# the feature names\n",
    "ftrs = df.columns"
   ]
  },
  {
   "cell_type": "code",
   "execution_count": 2,
   "metadata": {
    "slideshow": {
     "slide_type": "skip"
    }
   },
   "outputs": [
    {
     "name": "stdout",
     "output_type": "stream",
     "text": [
      "(876, 79)\n",
      "(292, 79)\n",
      "(292, 79)\n"
     ]
    }
   ],
   "source": [
    "# let's split to train, CV, and test\n",
    "X_other, X_test, y_other, y_test = train_test_split(df, y, test_size=0.2, random_state=0)\n",
    "X_train, X_CV, y_train, y_CV = train_test_split(X_other, y_other, test_size=0.25, random_state=0)\n",
    "\n",
    "print(X_train.shape)\n",
    "print(X_CV.shape)\n",
    "print(X_test.shape)"
   ]
  },
  {
   "cell_type": "code",
   "execution_count": 3,
   "metadata": {
    "slideshow": {
     "slide_type": "skip"
    }
   },
   "outputs": [],
   "source": [
    "# collect the various features\n",
    "cat_ftrs = ['MSZoning','Street','Alley','LandContour','LotConfig','Neighborhood','Condition1','Condition2',\\\n",
    "            'BldgType','HouseStyle','RoofStyle','RoofMatl','Exterior1st','Exterior2nd','MasVnrType','Foundation',\\\n",
    "           'Heating','CentralAir','Electrical','GarageType','PavedDrive','MiscFeature','SaleType','SaleCondition']\n",
    "ordinal_ftrs = ['LotShape','Utilities','LandSlope','ExterQual','ExterCond','BsmtQual','BsmtCond','BsmtExposure',\\\n",
    "               'BsmtFinType1','BsmtFinType2','HeatingQC','KitchenQual','Functional','FireplaceQu','GarageFinish',\\\n",
    "               'GarageQual','GarageCond','PoolQC','Fence']\n",
    "ordinal_cats = [['Reg','IR1','IR2','IR3'],['AllPub','NoSewr','NoSeWa','ELO'],['Gtl','Mod','Sev'],\\\n",
    "               ['Po','Fa','TA','Gd','Ex'],['Po','Fa','TA','Gd','Ex'],['NA','Po','Fa','TA','Gd','Ex'],\\\n",
    "               ['NA','Po','Fa','TA','Gd','Ex'],['NA','No','Mn','Av','Gd'],['NA','Unf','LwQ','Rec','BLQ','ALQ','GLQ'],\\\n",
    "               ['NA','Unf','LwQ','Rec','BLQ','ALQ','GLQ'],['Po','Fa','TA','Gd','Ex'],['Po','Fa','TA','Gd','Ex'],\\\n",
    "               ['Sal','Sev','Maj2','Maj1','Mod','Min2','Min1','Typ'],['NA','Po','Fa','TA','Gd','Ex'],\\\n",
    "               ['NA','Unf','RFn','Fin'],['NA','Po','Fa','TA','Gd','Ex'],['NA','Po','Fa','TA','Gd','Ex'],\n",
    "               ['NA','Fa','TA','Gd','Ex'],['NA','MnWw','GdWo','MnPrv','GdPrv']]\n",
    "num_ftrs = ['MSSubClass','LotFrontage','LotArea','OverallQual','OverallCond','YearBuilt','YearRemodAdd',\\\n",
    "             'MasVnrArea','BsmtFinSF1','BsmtFinSF2','BsmtUnfSF','TotalBsmtSF','1stFlrSF','2ndFlrSF',\\\n",
    "             'LowQualFinSF','GrLivArea','BsmtFullBath','BsmtHalfBath','FullBath','HalfBath','BedroomAbvGr',\\\n",
    "             'KitchenAbvGr','TotRmsAbvGrd','Fireplaces','GarageYrBlt','GarageCars','GarageArea','WoodDeckSF',\\\n",
    "             'OpenPorchSF','EnclosedPorch','3SsnPorch','ScreenPorch','PoolArea','MiscVal','MoSold','YrSold']"
   ]
  },
  {
   "cell_type": "code",
   "execution_count": 4,
   "metadata": {
    "slideshow": {
     "slide_type": "skip"
    }
   },
   "outputs": [],
   "source": [
    "# preprocess with pipeline and columntransformer\n",
    "from sklearn.compose import ColumnTransformer\n",
    "from sklearn.pipeline import Pipeline\n",
    "from sklearn.preprocessing import OneHotEncoder\n",
    "from sklearn.preprocessing import OrdinalEncoder\n",
    "from sklearn.preprocessing import StandardScaler\n",
    "from sklearn.impute import SimpleImputer\n",
    "\n",
    "# one-hot encoder\n",
    "categorical_transformer = Pipeline(steps=[\n",
    "    ('imputer', SimpleImputer(strategy='constant',fill_value='missing')),\n",
    "    ('onehot', OneHotEncoder(sparse=False,handle_unknown='ignore'))])\n",
    "\n",
    "# ordinal encoder\n",
    "ordinal_transformer = Pipeline(steps=[\n",
    "    ('imputer2', SimpleImputer(strategy='constant',fill_value='NA')),\n",
    "    ('ordinal', OrdinalEncoder(categories = ordinal_cats))])\n",
    "\n",
    "# standard scaler\n",
    "numeric_transformer = Pipeline(steps=[\n",
    "    ('scaler', StandardScaler())])\n",
    "\n",
    "# collect the transformers\n",
    "preprocessor = ColumnTransformer(\n",
    "    transformers=[\n",
    "        ('num', numeric_transformer, num_ftrs),\n",
    "        ('cat', categorical_transformer, cat_ftrs),\n",
    "        ('ord', ordinal_transformer, ordinal_ftrs)])"
   ]
  },
  {
   "cell_type": "code",
   "execution_count": 5,
   "metadata": {
    "slideshow": {
     "slide_type": "skip"
    }
   },
   "outputs": [
    {
     "name": "stdout",
     "output_type": "stream",
     "text": [
      "(876, 221)\n",
      "(292, 221)\n",
      "(292, 221)\n"
     ]
    }
   ],
   "source": [
    "# fit_transform the training set\n",
    "X_prep = preprocessor.fit_transform(X_train)\n",
    "# little hacky, but collect feature names\n",
    "feature_names = preprocessor.transformers_[0][-1] + \\\n",
    "                list(preprocessor.named_transformers_['cat'][1].get_feature_names(cat_ftrs)) + \\\n",
    "                preprocessor.transformers_[2][-1]\n",
    "\n",
    "df_train = pd.DataFrame(data=X_prep,columns=feature_names)\n",
    "print(df_train.shape)\n",
    "\n",
    "# transform the CV\n",
    "df_CV = preprocessor.transform(X_CV)\n",
    "df_CV = pd.DataFrame(data=df_CV,columns = feature_names)\n",
    "print(df_CV.shape)\n",
    "\n",
    "# transform the test\n",
    "df_test = preprocessor.transform(X_test)\n",
    "df_test = pd.DataFrame(data=df_test,columns = feature_names)\n",
    "print(df_test.shape)"
   ]
  },
  {
   "cell_type": "code",
   "execution_count": 15,
   "metadata": {
    "slideshow": {
     "slide_type": "subslide"
    }
   },
   "outputs": [
    {
     "name": "stdout",
     "output_type": "stream",
     "text": [
      "[False False False] 223\n",
      "[False False  True] 21\n",
      "[False  True False] 1\n",
      "[ True False False] 44\n",
      "[ True False  True] 2\n",
      "[ True  True False] 1\n",
      "    LotFrontage  MasVnrArea  GarageYrBlt\n",
      "10        False       False        False\n",
      "11        False       False        False\n",
      "12        False       False        False\n",
      "13         True       False         True\n",
      "14        False       False        False\n",
      "15        False       False        False\n",
      "16        False       False        False\n",
      "17        False       False        False\n",
      "18        False       False        False\n",
      "19         True       False        False\n"
     ]
    }
   ],
   "source": [
    "mask = df_test[['LotFrontage','MasVnrArea','GarageYrBlt']].isnull()\n",
    "#print(mask[:10])\n",
    "unique_rows, counts = np.unique(mask, axis=0,return_counts=True)\n",
    "for i in range(len(counts)):\n",
    "    print(unique_rows[i],counts[i])\n",
    "mask_train = df_train[['LotFrontage','MasVnrArea','GarageYrBlt']].isnull()\n",
    "print(mask_train[10:20])"
   ]
  },
  {
   "cell_type": "markdown",
   "metadata": {
    "slideshow": {
     "slide_type": "slide"
    }
   },
   "source": [
    "## Overview of methods to deal with missing data\n",
    "- **drop points**\n",
    "   - it's OK for MCAR and small amount of missing values\n",
    "- **mean or median imputation** \n",
    "   - avoid"
   ]
  },
  {
   "cell_type": "markdown",
   "metadata": {
    "slideshow": {
     "slide_type": "subslide"
    }
   },
   "source": [
    "- **multivariate imputation** \n",
    "   - it's OK if it make sense to impute feature values (not always the case)\n",
    "   - it's OK for MCAR and MAR\n",
    "- **XGBoost**\n",
    "   - no imputation, works with nans in the feature matrix\n",
    "   - best choice if tree-based methods (step predictions) are acceptable to you\n",
    "- **reduced features model**\n",
    "   - no imputation, uses a complete subset of features and points for each pattern\n",
    "   - model-agnostic"
   ]
  },
  {
   "cell_type": "markdown",
   "metadata": {
    "slideshow": {
     "slide_type": "slide"
    }
   },
   "source": [
    "## Global feature importance metrics\n",
    "By the end of this lecture, you will be able to\n",
    " - perform permutation feature importance calculation\n",
    " - study the coefficients of linear models\n",
    " - outlook to other metrics "
   ]
  },
  {
   "cell_type": "markdown",
   "metadata": {
    "slideshow": {
     "slide_type": "slide"
    }
   },
   "source": [
    "## Motivation\n",
    " - debugging ML models is tough\n",
    "    - a model that runs without errors/warning is not necessarily correct\n",
    " - how do you know that you model is correct?\n",
    "    - check test set predictions\n",
    "       - in regression: check points with a large difference between true and predicted values\n",
    "       - in classification: confusion matrix, check out FPs and FNs\n",
    "    - inspect your model\n",
    "       - especially useful for non-linear models\n",
    "       - metrics to measure how much a model depends on a feature is one way to inspect your model"
   ]
  },
  {
   "cell_type": "markdown",
   "metadata": {
    "slideshow": {
     "slide_type": "slide"
    }
   },
   "source": [
    "## <font color='LIGHTGRAY'>Global feature importance metrics</font>\n",
    "<font color='LIGHTGRAY'>By the end of this lecture, you will be able to</font>\n",
    " - **perform permutation feature importance calculation**\n",
    " - <font color='LIGHTGRAY'>study coefficients ($\\beta$ parameters) of linear models</font>\n",
    " - <font color='LIGHTGRAY'>outlook to other metrics </font>"
   ]
  },
  {
   "cell_type": "markdown",
   "metadata": {
    "slideshow": {
     "slide_type": "slide"
    }
   },
   "source": [
    "## Permutation feature importance\n",
    " - model agnostic, you can use it with any supervised ML model\n",
    " - steps:\n",
    "    - train a model and calculate a test score :)\n",
    "    - randomly shuffle a single feature in the test set\n",
    "    - recalculate the test score with the shuffled data\n",
    "    - model score worsens because the shuffling breaks the relationship between feature and target\n",
    "    - the larger the difference, the more important the feature is"
   ]
  },
  {
   "cell_type": "code",
   "execution_count": 16,
   "metadata": {
    "slideshow": {
     "slide_type": "slide"
    }
   },
   "outputs": [
    {
     "name": "stdout",
     "output_type": "stream",
     "text": [
      "   age          workclass  fnlwgt   education  education-num  \\\n",
      "0   39          State-gov   77516   Bachelors             13   \n",
      "1   50   Self-emp-not-inc   83311   Bachelors             13   \n",
      "2   38            Private  215646     HS-grad              9   \n",
      "3   53            Private  234721        11th              7   \n",
      "4   28            Private  338409   Bachelors             13   \n",
      "\n",
      "        marital-status          occupation    relationship    race      sex  \\\n",
      "0        Never-married        Adm-clerical   Not-in-family   White     Male   \n",
      "1   Married-civ-spouse     Exec-managerial         Husband   White     Male   \n",
      "2             Divorced   Handlers-cleaners   Not-in-family   White     Male   \n",
      "3   Married-civ-spouse   Handlers-cleaners         Husband   Black     Male   \n",
      "4   Married-civ-spouse      Prof-specialty            Wife   Black   Female   \n",
      "\n",
      "   capital-gain  capital-loss  hours-per-week  native-country  \n",
      "0          2174             0              40   United-States  \n",
      "1             0             0              13   United-States  \n",
      "2             0             0              40   United-States  \n",
      "3             0             0              40   United-States  \n",
      "4             0             0              40            Cuba  \n",
      "[0 0 0 ... 0 0 1]\n"
     ]
    }
   ],
   "source": [
    "import numpy as np\n",
    "import pandas as pd\n",
    "from sklearn.preprocessing import LabelEncoder\n",
    "from sklearn.svm import SVC\n",
    "from sklearn.pipeline import make_pipeline\n",
    "from sklearn.model_selection import GridSearchCV\n",
    "from sklearn.model_selection import train_test_split\n",
    "from sklearn.model_selection import StratifiedKFold\n",
    "from sklearn.preprocessing import StandardScaler\n",
    "from sklearn.compose import ColumnTransformer\n",
    "from sklearn.pipeline import Pipeline\n",
    "from sklearn.preprocessing import OneHotEncoder\n",
    "import matplotlib.pylab as plt\n",
    "\n",
    "df = pd.read_csv('data/adult_data.csv')\n",
    "label = 'gross-income'\n",
    "y = LabelEncoder().fit_transform(df[label])\n",
    "df.drop(columns=[label],inplace=True)\n",
    "X = df\n",
    "ftr_names = X.columns\n",
    "print(X.head())\n",
    "print(y)"
   ]
  },
  {
   "cell_type": "code",
   "execution_count": 8,
   "metadata": {
    "slideshow": {
     "slide_type": "slide"
    }
   },
   "outputs": [],
   "source": [
    "def ML_pipeline_kfold(X,y,random_state,n_folds):\n",
    "    # create a test set\n",
    "    X_other, X_test, y_other, y_test = train_test_split(X, y, test_size=0.2, random_state = random_state)\n",
    "    # splitter for _other\n",
    "    kf = StratifiedKFold(n_splits=n_folds,shuffle=True,random_state=random_state)\n",
    "    # create the pipeline: preprocessor + supervised ML method\n",
    "    cat_ftrs = ['workclass','education','marital-status','occupation','relationship','race','sex','native-country']\n",
    "    cont_ftrs = ['age','fnlwgt','education-num','capital-gain','capital-loss','hours-per-week']\n",
    "    # one-hot encoder\n",
    "    categorical_transformer = Pipeline(steps=[\n",
    "        ('onehot', OneHotEncoder(sparse=False,handle_unknown='ignore'))])\n",
    "    # standard scaler\n",
    "    numeric_transformer = Pipeline(steps=[\n",
    "        ('scaler', StandardScaler())])\n",
    "    preprocessor = ColumnTransformer(\n",
    "        transformers=[\n",
    "            ('num', numeric_transformer, cont_ftrs),\n",
    "            ('cat', categorical_transformer, cat_ftrs)])\n",
    "    pipe = make_pipeline(preprocessor,SVC())\n",
    "    # the parameter(s) we want to tune\n",
    "    param_grid = {'svc__C': [0.01, 0.1, 1, 10, 100],\n",
    "                  'svc__gamma': [0.01, 0.1, 1, 10, 100]}\n",
    "    # prepare gridsearch\n",
    "    grid = GridSearchCV(pipe, param_grid=param_grid,cv=kf, return_train_score = True,n_jobs=-1,verbose=10)\n",
    "    # do kfold CV on _other\n",
    "    grid.fit(X_other, y_other)\n",
    "    return grid, X_test, y_test"
   ]
  },
  {
   "cell_type": "markdown",
   "metadata": {
    "slideshow": {
     "slide_type": "subslide"
    }
   },
   "source": [
    "## Do not run this on the hub :)"
   ]
  },
  {
   "cell_type": "code",
   "execution_count": null,
   "metadata": {},
   "outputs": [],
   "source": [
    "grid, X_test, y_test = ML_pipeline_kfold(X,y,42,4)\n",
    "print(grid.best_score_)\n",
    "print(grid.score(X_test,y_test))\n",
    "print(grid.best_params_)\n",
    "\n",
    "# save the output so I can use it later\n",
    "import pickle\n",
    "file = open('results/grid.save', 'wb')\n",
    "pickle.dump((grid,X_test,y_test),file)\n",
    "file.close()"
   ]
  },
  {
   "cell_type": "code",
   "execution_count": 9,
   "metadata": {
    "slideshow": {
     "slide_type": "slide"
    }
   },
   "outputs": [
    {
     "name": "stdout",
     "output_type": "stream",
     "text": [
      "test score =  0.8624289881774911\n",
      "test baseline =  0.7587901120835252\n",
      "shuffling age\n",
      "   shuffled test score: 0.849 +/- 0.002\n",
      "shuffling workclass\n",
      "   shuffled test score: 0.86 +/- 0.001\n",
      "shuffling fnlwgt\n",
      "   shuffled test score: 0.861 +/- 0.001\n",
      "shuffling education\n",
      "   shuffled test score: 0.861 +/- 0.001\n",
      "shuffling education-num\n",
      "   shuffled test score: 0.841 +/- 0.002\n",
      "shuffling marital-status\n",
      "   shuffled test score: 0.841 +/- 0.001\n",
      "shuffling occupation\n",
      "   shuffled test score: 0.844 +/- 0.001\n",
      "shuffling relationship\n",
      "   shuffled test score: 0.85 +/- 0.002\n",
      "shuffling race\n",
      "   shuffled test score: 0.862 +/- 0.0\n",
      "shuffling sex\n",
      "   shuffled test score: 0.862 +/- 0.001\n",
      "shuffling capital-gain\n",
      "   shuffled test score: 0.824 +/- 0.002\n",
      "shuffling capital-loss\n",
      "   shuffled test score: 0.855 +/- 0.001\n",
      "shuffling hours-per-week\n",
      "   shuffled test score: 0.856 +/- 0.001\n",
      "shuffling native-country\n",
      "   shuffled test score: 0.861 +/- 0.0\n"
     ]
    }
   ],
   "source": [
    "import pickle\n",
    "file = open('results/grid.save', 'rb')\n",
    "grid, X_test, y_test = pickle.load(file)\n",
    "file.close()\n",
    "\n",
    "nr_runs = 10\n",
    "scores = np.zeros([len(ftr_names),nr_runs])\n",
    "\n",
    "test_score = grid.score(X_test,y_test)\n",
    "print('test score = ',test_score)\n",
    "print('test baseline = ',np.sum(y_test == 0)/len(y_test))\n",
    "# loop through the features\n",
    "for i in range(len(ftr_names)):\n",
    "    print('shuffling '+str(ftr_names[i]))\n",
    "    acc_scores = []\n",
    "    for j in range(nr_runs):\n",
    "        X_test_shuffled = X_test.copy()\n",
    "        X_test_shuffled[ftr_names[i]] = np.random.permutation(X_test[ftr_names[i]].values)\n",
    "        acc_scores.append(grid.score(X_test_shuffled,y_test))\n",
    "    print('   shuffled test score:',np.around(np.mean(acc_scores),3),'+/-',np.around(np.std(acc_scores),3))\n",
    "    scores[i] = acc_scores"
   ]
  },
  {
   "cell_type": "code",
   "execution_count": 21,
   "metadata": {
    "slideshow": {
     "slide_type": "subslide"
    }
   },
   "outputs": [
    {
     "data": {
      "image/png": "[encoded data removed]",
      "text/plain": [
       "<Figure size 576x432 with 1 Axes>"
      ]
     },
     "metadata": {
      "needs_background": "light"
     },
     "output_type": "display_data"
    }
   ],
   "source": [
    "sorted_indcs = np.argsort(np.mean(scores,axis=1))[::-1]\n",
    "plt.rcParams.update({'font.size': 14})\n",
    "plt.figure(figsize=(8,6))\n",
    "plt.boxplot(scores[sorted_indcs].T,labels=ftr_names[sorted_indcs],vert=False)\n",
    "plt.axvline(test_score,label='test score')\n",
    "plt.title(\"Permutation Importances (test set)\")\n",
    "plt.xlabel('score with perturbed feature')\n",
    "plt.legend()\n",
    "plt.tight_layout()\n",
    "plt.show()"
   ]
  },
  {
   "cell_type": "markdown",
   "metadata": {
    "slideshow": {
     "slide_type": "slide"
    }
   },
   "source": [
    "## Cons of permutation feature importance\n",
    "- strongly correlated features\n",
    "   - if one of the features is shuffled, the model can still use the other correlated feature\n",
    "   - both features appear to be less important but they might actually be important\n",
    "   - solution:\n",
    "      - check the correlation matrix plot\n",
    "      - remove all but one of the strongly correlated features\n",
    "- no feature interactions\n",
    "   - one feature might appear unimportant but combined with another feature could be important\n",
    "   - solution:\n",
    "      - permute two features to measure how important feature pairs are\n",
    "      - this can be computationally expensive"
   ]
  },
  {
   "cell_type": "markdown",
   "metadata": {
    "slideshow": {
     "slide_type": "slide"
    }
   },
   "source": [
    "## <font color='LIGHTGRAY'>Global feature importance metrics</font>\n",
    "<font color='LIGHTGRAY'>By the end of this lecture, you will be able to</font>\n",
    " - <font color='LIGHTGRAY'>perform permutation feature importance calculation</font>\n",
    " - **study the coefficients of linear models**\n",
    " - <font color='LIGHTGRAY'>outlook to other metrics </font>"
   ]
  },
  {
   "cell_type": "markdown",
   "metadata": {
    "slideshow": {
     "slide_type": "slide"
    }
   },
   "source": [
    "## Coefficients of linear models\n",
    "- the coefficients of linear and logistic regression can be used as a measure of feature importance **ONLY IF** all features have a zero mean and the same standard deviation (usually 1)\n",
    "   - all features meaning that the one-hot encoded and ordinal features as well!\n",
    "- then the absolute value of the coefficients can be used to rank them"
   ]
  },
  {
   "cell_type": "markdown",
   "metadata": {
    "slideshow": {
     "slide_type": "subslide"
    }
   },
   "source": [
    "## Let's rewrite the kfold CV function a bit"
   ]
  },
  {
   "cell_type": "code",
   "execution_count": 22,
   "metadata": {},
   "outputs": [],
   "source": [
    "from sklearn.linear_model import LogisticRegression\n",
    "def ML_pipeline_kfold_LR1(X,y,random_state,n_folds):\n",
    "    # create a test set\n",
    "    X_other, X_test, y_other, y_test = train_test_split(X, y, test_size=0.2, random_state = random_state)\n",
    "    # splitter for _other\n",
    "    kf = StratifiedKFold(n_splits=n_folds,shuffle=True,random_state=random_state)\n",
    "    # create the pipeline: preprocessor + supervised ML method\n",
    "    cat_ftrs = ['workclass','education','marital-status','occupation','relationship','race','sex','native-country']\n",
    "    cont_ftrs = ['age','fnlwgt','education-num','capital-gain','capital-loss','hours-per-week']\n",
    "    # one-hot encoder\n",
    "    categorical_transformer = Pipeline(steps=[\n",
    "        ('onehot', OneHotEncoder(sparse=False,handle_unknown='ignore'))])\n",
    "    # standard scaler\n",
    "    numeric_transformer = Pipeline(steps=[\n",
    "        ('scaler', StandardScaler())])\n",
    "    preprocessor = ColumnTransformer(\n",
    "        transformers=[\n",
    "            ('num', numeric_transformer, cont_ftrs),\n",
    "            ('cat', categorical_transformer, cat_ftrs)])\n",
    "    pipe = make_pipeline(preprocessor,LogisticRegression(penalty='l2',solver='lbfgs'))\n",
    "    # the parameter(s) we want to tune\n",
    "    param_grid = {'logisticregression__C': [0.01, 0.1, 1, 10,100]}\n",
    "    # prepare gridsearch\n",
    "    grid = GridSearchCV(pipe, param_grid=param_grid,cv=kf, return_train_score = True,n_jobs=-1)\n",
    "    # do kfold CV on _other\n",
    "    grid.fit(X_other, y_other)\n",
    "    feature_names = cont_ftrs + \\\n",
    "                list(grid.best_estimator_[0].named_transformers_['cat'][0].get_feature_names(cat_ftrs))\n",
    "    return grid, np.array(feature_names), X_test, y_test"
   ]
  },
  {
   "cell_type": "code",
   "execution_count": 23,
   "metadata": {
    "slideshow": {
     "slide_type": "subslide"
    }
   },
   "outputs": [
    {
     "name": "stderr",
     "output_type": "stream",
     "text": [
      "/anaconda3/envs/datasci_v0.0.2_local4.yml/lib/python3.6/site-packages/sklearn/linear_model/logistic.py:947: ConvergenceWarning: lbfgs failed to converge. Increase the number of iterations.\n",
      "  \"of iterations.\", ConvergenceWarning)\n"
     ]
    },
    {
     "name": "stdout",
     "output_type": "stream",
     "text": [
      "test score: 0.8581298940580377\n"
     ]
    },
    {
     "data": {
      "image/png": "[encoded data removed]",
      "text/plain": [
       "<Figure size 432x288 with 1 Axes>"
      ]
     },
     "metadata": {
      "needs_background": "light"
     },
     "output_type": "display_data"
    }
   ],
   "source": [
    "grid, feature_names, X_test, y_test = ML_pipeline_kfold_LR1(X,y,42,4)\n",
    "print('test score:',grid.score(X_test,y_test))\n",
    "coefs = grid.best_estimator_[-1].coef_[0]\n",
    "sorted_indcs = np.argsort(np.abs(coefs))\n",
    "\n",
    "plt.rcParams.update({'font.size': 14})\n",
    "plt.barh(np.arange(10),coefs[sorted_indcs[-10:]])\n",
    "plt.yticks(np.arange(10),feature_names[sorted_indcs[-10:]])\n",
    "plt.xlabel('coefficient')\n",
    "plt.title('not all scaled')\n",
    "plt.tight_layout()\n",
    "plt.savefig('figures/LR_coefs_notscaled.png',dpi=300)\n",
    "plt.show()"
   ]
  },
  {
   "cell_type": "code",
   "execution_count": 24,
   "metadata": {
    "slideshow": {
     "slide_type": "subslide"
    }
   },
   "outputs": [],
   "source": [
    "from sklearn.linear_model import LogisticRegression\n",
    "def ML_pipeline_kfold_LR2(X,y,random_state,n_folds):\n",
    "    # create a test set\n",
    "    X_other, X_test, y_other, y_test = train_test_split(X, y, test_size=0.2, random_state = random_state)\n",
    "    # splitter for _other\n",
    "    kf = StratifiedKFold(n_splits=n_folds,shuffle=True,random_state=random_state)\n",
    "    # create the pipeline: preprocessor + supervised ML method\n",
    "    cat_ftrs = ['workclass','education','marital-status','occupation','relationship','race','sex','native-country']\n",
    "    cont_ftrs = ['age','fnlwgt','education-num','capital-gain','capital-loss','hours-per-week']\n",
    "    # one-hot encoder\n",
    "    categorical_transformer = Pipeline(steps=[\n",
    "        ('onehot', OneHotEncoder(sparse=False,handle_unknown='ignore'))])\n",
    "    # standard scaler\n",
    "    numeric_transformer = Pipeline(steps=[\n",
    "        ('scaler', StandardScaler())])\n",
    "    preprocessor = ColumnTransformer(\n",
    "        transformers=[\n",
    "            ('num', numeric_transformer, cont_ftrs),\n",
    "            ('cat', categorical_transformer, cat_ftrs)])\n",
    "    final_scaler = StandardScaler()\n",
    "    pipe = make_pipeline(preprocessor,final_scaler,LogisticRegression(penalty='l2',solver='lbfgs'))\n",
    "    # the parameter(s) we want to tune\n",
    "    param_grid = {'logisticregression__C': [0.01, 0.1, 1, 10,100]}\n",
    "    # prepare gridsearch\n",
    "    grid = GridSearchCV(pipe, param_grid=param_grid,cv=kf, return_train_score = True,n_jobs=-1)\n",
    "    # do kfold CV on _other\n",
    "    grid.fit(X_other, y_other)\n",
    "    feature_names = cont_ftrs + \\\n",
    "                list(grid.best_estimator_[0].named_transformers_['cat'][0].get_feature_names(cat_ftrs))\n",
    "    return grid, np.array(feature_names), X_test, y_test"
   ]
  },
  {
   "cell_type": "code",
   "execution_count": 25,
   "metadata": {
    "slideshow": {
     "slide_type": "subslide"
    }
   },
   "outputs": [
    {
     "name": "stdout",
     "output_type": "stream",
     "text": [
      "test score: 0.857976354982343\n"
     ]
    },
    {
     "data": {
      "image/png": "[encoded data removed]",
      "text/plain": [
       "<Figure size 432x288 with 1 Axes>"
      ]
     },
     "metadata": {
      "needs_background": "light"
     },
     "output_type": "display_data"
    }
   ],
   "source": [
    "grid, feature_names, X_test, y_test = ML_pipeline_kfold_LR2(X,y,42,4)\n",
    "print('test score:',grid.score(X_test,y_test))\n",
    "coefs = grid.best_estimator_[-1].coef_[0]\n",
    "sorted_indcs = np.argsort(np.abs(coefs))\n",
    "\n",
    "plt.rcParams.update({'font.size': 14})\n",
    "plt.barh(np.arange(10),coefs[sorted_indcs[-10:]])\n",
    "plt.yticks(np.arange(10),feature_names[sorted_indcs[-10:]])\n",
    "plt.xlabel('coefficient')\n",
    "plt.title('all scaled')\n",
    "plt.tight_layout()\n",
    "plt.savefig('figures/LR_coefs_scaled.png',dpi=300)\n",
    "plt.show()"
   ]
  },
  {
   "cell_type": "markdown",
   "metadata": {
    "slideshow": {
     "slide_type": "subslide"
    }
   },
   "source": [
    "<table><tr>\n",
    "<td> <img src=\"figures/LR_coefs_notscaled.png\" alt=\"Drawing\" style=\"width: 500px;\"/> </td>\n",
    "<td> <img src=\"figures/LR_coefs_scaled.png\" alt=\"Drawing\" style=\"width: 500px;\"/> </td>\n",
    "</tr></table>"
   ]
  },
  {
   "cell_type": "markdown",
   "metadata": {
    "slideshow": {
     "slide_type": "slide"
    }
   },
   "source": [
    "## <font color='LIGHTGRAY'>Global feature importance metrics</font>\n",
    "<font color='LIGHTGRAY'>By the end of this lecture, you will be able to</font>\n",
    " - <font color='LIGHTGRAY'>perform permutation feature importance calculation</font>\n",
    " - <font color='LIGHTGRAY'>study the coefficients of linear models</font>\n",
    " - **outlook to other metrics**\n"
   ]
  },
  {
   "cell_type": "markdown",
   "metadata": {
    "slideshow": {
     "slide_type": "slide"
    }
   },
   "source": [
    "- SVM:\n",
    "   - SVC.coef_ and SVR.coef_ can be used as a metric of feature importance if **all** features are standardized\n",
    "   - for linear SVMs only!\n",
    "- random forest:\n",
    "   - RandomForestRegressor.feature_importances_ and RandomForestClassification.feature_importances_\n",
    "   - gini importance or mean decrease impurity, see [here](https://scikit-learn.org/stable/auto_examples/ensemble/plot_forest_importances.html) and [here](https://stackoverflow.com/questions/15810339/how-are-feature-importances-in-randomforestclassifier-determined)\n",
    "- XGBoost:\n",
    "   - five different metrics are implemented, see [here](https://xgboost.readthedocs.io/en/latest/python/python_api.html#xgboost.Booster.get_score) and [here](https://towardsdatascience.com/be-careful-when-interpreting-your-features-importance-in-xgboost-6e16132588e7)"
   ]
  },
  {
   "cell_type": "code",
   "execution_count": null,
   "metadata": {},
   "outputs": [],
   "source": []
  }
 ],
 "metadata": {
  "celltoolbar": "Slideshow",
  "kernelspec": {
   "display_name": "Python 3",
   "language": "python",
   "name": "python3"
  },
  "language_info": {
   "codemirror_mode": {
    "name": "ipython",
    "version": 3
   },
   "file_extension": ".py",
   "mimetype": "text/x-python",
   "name": "python",
   "nbconvert_exporter": "python",
   "pygments_lexer": "ipython3",
   "version": "3.6.7"
  }
 },
 "nbformat": 4,
 "nbformat_minor": 2
}
