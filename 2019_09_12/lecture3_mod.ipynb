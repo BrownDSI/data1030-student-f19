{
 "cells": [
  {
   "cell_type": "markdown",
   "metadata": {
    "slideshow": {
     "slide_type": "slide"
    }
   },
   "source": [
    "## <center> Go to piazza and open today's lecture notes in the hub! </center>\n",
    "## <center> https://piazza.com/class/jzioyk40mhs6r2 </center>\n",
    "## <center> Let's go to tophat for attendance! </center>\n",
    "## <center> https://app.tophat.com/e/245218 </center>"
   ]
  },
  {
   "cell_type": "markdown",
   "metadata": {
    "slideshow": {
     "slide_type": "slide"
    }
   },
   "source": [
    "## Recap from last time\n",
    "- which problems can be solved by ML and why\n",
    "- sueprvised and unsupervised ML\n",
    "- bias-variance tradeoff\n",
    "\n",
    "####  Let's revisit some of these topics before we move on!\n"
   ]
  },
  {
   "cell_type": "markdown",
   "metadata": {
    "slideshow": {
     "slide_type": "slide"
    }
   },
   "source": [
    "### Easy questions:\n",
    "- In clustering, can we predict the cluster probabilities of a point?\n",
    "   - not with sklearn. sklearn clustering algorithms only return the most likely cluster\n",
    "- Is unsupervised ML always clustering?\n",
    "   - no. outlier detection and dimensionality reduction are also considered unsupervised ML\n",
    "- Why is supervised ML called supervised?\n",
    "   - due to the training labels, the answers to the task are known which can be thought of as a teacher checking the answers of the ML algorithm and iteratively correcting them."
   ]
  },
  {
   "cell_type": "markdown",
   "metadata": {
    "slideshow": {
     "slide_type": "subslide"
    }
   },
   "source": [
    "## Example: the adult dataset\n",
    "\n",
    "https://archive.ics.uci.edu/ml/datasets/Adult\n",
    "\n",
    "- census data on ~30.000 people from 1994\n",
    "- features such as age, education level, marital status, gender, race, #hours worked /  week, home country, do they earn more or less than 50k?\n",
    "- what can you do with the data?"
   ]
  },
  {
   "cell_type": "markdown",
   "metadata": {
    "slideshow": {
     "slide_type": "subslide"
    }
   },
   "source": [
    "### What can you do with the data?\n",
    "- classification questions\n",
    "    - predict of someone earns more or less than 50k  based on the other features\n",
    "    - study gender inequality: make gender the target variable\n",
    "    - study racial inequality: make race the target variable\n",
    "- regression questions\n",
    "    - predict the age of someone\n",
    "    - predict how many hours a week they work\n",
    "- unsupervised ML questions\n",
    "    - use all features and look for groups of similar people\n",
    "    - look for outliers\n"
   ]
  },
  {
   "cell_type": "markdown",
   "metadata": {
    "slideshow": {
     "slide_type": "slide"
    }
   },
   "source": [
    "### Supervised vs unsupervised ML\n",
    "- supervised ML\n",
    "   - you have labelled data points: X feature matrix and y target variable.\n",
    "   - you want to create a function f that can map X to y accurately. \n",
    "   - you will then give new feature values (X_new) as input to f and it will return estimated target variables (y_new')\n",
    "   - f(x_new_i) = y_new_i'\n",
    "\n",
    "| X|feature_1|feature_2|...|feature_j|...|feature_m|<font color='red'>y</font>|\n",
    "|-|:-:|:-:|:-:|:-:|:-:|:-:|:-:|\n",
    "|__data_point_1__|x_11|x_12|...|x_1j|...|x_1m|__<font color='red'>y_1</font>__|\n",
    "|__data_point_2__|x_21|x_22|...|x_2j|...|x_2m|__<font color='red'>y_2</font>__|\n",
    "|__...__|...|...|...|...|...|...|__<font color='red'>...</font>__|\n",
    "|__data_point_i__|x_i1|x_i2|...|x_ij|...|x_im|__<font color='red'>y_i</font>__|\n",
    "|__...__|...|...|...|...|...|...|__<font color='red'>...</font>__|\n",
    "|__data_point_n__|x_n1|x_n2|...|x_nj|...|x_nm|__<font color='red'>y_n</font>__|"
   ]
  },
  {
   "cell_type": "markdown",
   "metadata": {
    "slideshow": {
     "slide_type": "subslide"
    }
   },
   "source": [
    "   - if y is categorical, we train a classification model\n",
    "   - if y is continuous, we train a regression model"
   ]
  },
  {
   "cell_type": "markdown",
   "metadata": {
    "slideshow": {
     "slide_type": "subslide"
    }
   },
   "source": [
    "### Supervised vs unsupervised ML\n",
    "- unsupervised ML: there is no target variable that you are specifically interested in.\n",
    "   - you want to find structure/groups/clusters in your data (e.g., customer segmentation)\n",
    "   - you want to find outliers in your data\n",
    "\n",
    "| X|feature_1|feature_2|...|feature_j|...|feature_m|\n",
    "|-|:-:|:-:|:-:|:-:|:-:|:-:|\n",
    "|__data_point_1__|x_11|x_12|...|x_1j|...|x_1m|\n",
    "|__data_point_2__|x_21|x_22|...|x_2j|...|x_2m|\n",
    "|__...__|...|...|...|...|...|...|\n",
    "|__data_point_i__|x_i1|x_i2|...|x_ij|...|x_im|\n",
    "|__...__|...|...|...|...|...|...|\n",
    "|__data_point_n__|x_n1|x_n2|...|x_nj|...|x_nm|\n"
   ]
  },
  {
   "cell_type": "markdown",
   "metadata": {
    "slideshow": {
     "slide_type": "subslide"
    }
   },
   "source": [
    "If something is still unclear, come to my office hour today.\n",
    "\n",
    "You can also read chapter 1 of the \"Hands-On Machine Learning with Scikit-Learn and TensorFlow\" from Geron.\n",
    "\n",
    "http://shop.oreilly.com/product/0636920052289.do\n",
    "\n",
    "Or check the python data science handbook's relevant chapter.\n",
    "\n",
    "https://jakevdp.github.io/PythonDataScienceHandbook/05.01-what-is-machine-learning.html\n"
   ]
  },
  {
   "cell_type": "markdown",
   "metadata": {
    "slideshow": {
     "slide_type": "slide"
    }
   },
   "source": [
    "# <center>Overview of Machine Learning, part 2</center>\n",
    "\n",
    "### By the end of this lecture, you will be able to\n",
    "   - Describe the bias-variance tradeoff\n",
    "   - Summarize the main steps of the ML workflow"
   ]
  },
  {
   "cell_type": "markdown",
   "metadata": {
    "slideshow": {
     "slide_type": "slide"
    }
   },
   "source": [
    "### <font color='LIGHTGRAY'>By the end of this lecture, you will be able to</font>\n",
    "   - **Describe the bias-variance tradeoff**\n",
    "   - <font color='LIGHTGRAY'>Summarize the main steps of the ML workflow</font>"
   ]
  },
  {
   "cell_type": "markdown",
   "metadata": {
    "slideshow": {
     "slide_type": "slide"
    }
   },
   "source": [
    "## <center>An example</center>\n",
    "\n",
    "### <center>Fit a polynomial to these points using linear regression!</center>\n",
    "\n",
    "<center><img src=\"polifit_nomodel.jpg\" width=\"500\"></center>\n"
   ]
  },
  {
   "cell_type": "markdown",
   "metadata": {
    "slideshow": {
     "slide_type": "subslide"
    }
   },
   "source": [
    "### The linear regression model:\n",
    "\n",
    "##### <center> $y' = \\beta_0 + \\sum_{j=1}^{d} \\beta_j $ $f_j$ $ = \\beta_0 + \\sum_{j=1}^{d} \\beta_j x^j$, </center>\n",
    "\n",
    "where $d$ is the highest degree of the polynomial. E.g., if d = 3, $y' = \\beta_0 + \\beta_1 x + \\beta_2 x^2 + \\beta_3 x^3$."
   ]
  },
  {
   "cell_type": "markdown",
   "metadata": {
    "slideshow": {
     "slide_type": "subslide"
    }
   },
   "source": [
    "### The max degree of the polynomial ($d$) is a hyperparameter.\n",
    "- You decide what the value should be and you can change it.\n",
    "\n",
    "### The coefficients of the polynomial are parameters.\n",
    "- The ML algorithm calculates $\\beta_0, \\beta_1, \\beta_2, \\beta_3, ...$ for you to minimize the error on the training data."
   ]
  },
  {
   "cell_type": "markdown",
   "metadata": {
    "slideshow": {
     "slide_type": "subslide"
    }
   },
   "source": [
    "### <center> First order polynomial</center>\n",
    "<center><img src=\"polifit_1.jpg\" width=\"500\"></center>\n",
    "\n",
    "#### <center>$y' = 0.81 -2.3x$</center>\n"
   ]
  },
  {
   "cell_type": "markdown",
   "metadata": {
    "slideshow": {
     "slide_type": "subslide"
    }
   },
   "source": [
    "### <center> Fifth order polynomial</center>\n",
    "\n",
    "<center><img src=\"polifit_5.jpg\" width=\"500\"></center>\n",
    "\n",
    "#### <center>$y' = 1.1 -2.38  x + 5.45  x^2 - 44.7  x^3 + 75.33  x^4 - 34.87  x^5$</center>\n"
   ]
  },
  {
   "cell_type": "markdown",
   "metadata": {
    "slideshow": {
     "slide_type": "subslide"
    }
   },
   "source": [
    "### <center> 15th order polynomial</center>\n",
    "\n",
    "<center><img src=\"polifit_15.jpg\" width=\"500\"></center>\n",
    "\n",
    "#### <center> $y' = 0.89 + 37.18  x - 1920.98  x^2 + 43413.38  x^3 - 569919.88  x^4 + 4895023.25  x^5 - 29367547.19  x^6 + 127247890.38  x^7 - 404130483.77  x^8 + 943928768.95  x^9 - 1612574098.44  x^{10} + 1984508923.6  x^{11} - 1708405945.73  x^{12} + 974446430.21  x^{13}-330357881.78  x^{14}+50337433.06  x^{15} $</center>"
   ]
  },
  {
   "cell_type": "markdown",
   "metadata": {
    "slideshow": {
     "slide_type": "slide"
    }
   },
   "source": [
    "The figure below shows the MSE of the training data as a function of the polynomial degree:\n",
    "\n",
    "<center><img src=\"MSE_train.jpg\" width=\"500\"></center>"
   ]
  },
  {
   "cell_type": "markdown",
   "metadata": {
    "slideshow": {
     "slide_type": "subslide"
    }
   },
   "source": [
    "### Let's add a couple of new points to the plot!\n",
    "<center><img src=\"polifit2.jpg\" width=\"500\"></center>\n"
   ]
  },
  {
   "cell_type": "markdown",
   "metadata": {
    "slideshow": {
     "slide_type": "subslide"
    }
   },
   "source": [
    "### Here are a couple of fitted polynomials (y').\n",
    "\n",
    "<center><img src=\"polifit_fits.jpg\" width=\"500\"></center>\n",
    "\n",
    "<center>What is the MSE of new data points as a function of $d$?</center>\n",
    "\n",
    "<center>$MSE(y,y') = \\frac{1}{n}\\sum_{i=1}^{n}(y_i-y_i')^2$</center>\n",
    "\n",
    "#####  <center>Make a sketch and explain your prediction!</center>"
   ]
  },
  {
   "cell_type": "markdown",
   "metadata": {
    "slideshow": {
     "slide_type": "subslide"
    }
   },
   "source": [
    "\n",
    "<center><img src=\"MSE_train_test.jpg\" width=\"600\"></center>\n"
   ]
  },
  {
   "cell_type": "markdown",
   "metadata": {
    "slideshow": {
     "slide_type": "subslide"
    }
   },
   "source": [
    "### <center> The bias-variance tradeoff </center>\n",
    "\n",
    "<center><img src=\"MSE_train_test.jpg\" width=\"400\"></center>\n",
    "\n",
    " High Bias: If a model is too simple, it performs poorly on both training data and on new data points.\n",
    " \n",
    " High Variance: If a model is too complex, it performs accurately on the training data but it does not generalize to new data points\n",
    "\n",
    " The goal of the ML pipeline is to find the optimum between high bias and high variance.\n"
   ]
  },
  {
   "cell_type": "markdown",
   "metadata": {
    "slideshow": {
     "slide_type": "slide"
    }
   },
   "source": [
    "### <font color='LIGHTGRAY'>By the end of this lecture, you will be able to</font>\n",
    "   - <font color='LIGHTGRAY'>Describe the bias-variance tradeoff</font>\n",
    "   - **Summarize the main steps of the ML workflow**"
   ]
  },
  {
   "cell_type": "markdown",
   "metadata": {
    "slideshow": {
     "slide_type": "slide"
    }
   },
   "source": [
    "## <center>A typical ML pipeline</center>\n",
    "\n",
    "### Goal 1: Find balance between bias and variance! Develop a model which generalizes to new data points.\n",
    "\n",
    "### Goal 2: Report the model performance one should expect on previously unseen data!"
   ]
  },
  {
   "cell_type": "markdown",
   "metadata": {
    "slideshow": {
     "slide_type": "slide"
    }
   },
   "source": [
    "## The supervised ML pipeline\n",
    "Most of the course is about supervised ML.\n",
    "Required steps are highlighted."
   ]
  },
  {
   "cell_type": "markdown",
   "metadata": {
    "slideshow": {
     "slide_type": "subslide"
    }
   },
   "source": [
    "1. **Preprocessing (two lectures)**\n",
    "\n",
    "    1.1 Scale continuous features \n",
    "    \n",
    "    1.2 One-hot encode categorical features - necessary if you have categorical features\n",
    "    \n",
    "    1.3 Impute missing values - not necessary if you use an ML method that runs with nans\n",
    "\n",
    "2. **Exploratory  Data  Analysis (two lectures)** - highly recommended, you need to understand your data!\n",
    "\n",
    "3. Dimensionality reduction (one lecture) - necessary if your data has too many features (#features >> #points)"
   ]
  },
  {
   "cell_type": "markdown",
   "metadata": {
    "slideshow": {
     "slide_type": "subslide"
    }
   },
   "source": [
    "4. Feature engineering (one lecture) - recommended but often requires expert knowledge\n",
    "\n",
    "5. **Select your evaluation metric (two lectures)** - depends on the priorities of stakeholders\n",
    "\n",
    "6. **Put together  the cross-validation pipeline (two lectures)** - practicioners often make errors in this step\n",
    "   - split the data into three parts (train, CV, test)\n",
    "   - decide which model hyperparameters you want to tune and what values you want to try\n",
    "   - loop through all hyperparameter combinations\n",
    "      - train a model\n",
    "      - evaluate the CV set\n",
    "   - find the hyperparameter combination that optimizes the CV metric\n",
    "   - apply that one model on the test set and report the metric \n",
    "      - this is how your model generalizes to previously unseen data\n",
    "\n",
    "7. **Train multiple models using multiple ML algorithms (two lectures)** - practicioners often make errors in this step\n",
    "\n",
    "8. **Interpret your model (one lecture)** - black boxes are often not useful"
   ]
  },
  {
   "cell_type": "markdown",
   "metadata": {
    "slideshow": {
     "slide_type": "subslide"
    }
   },
   "source": [
    "### Some notes and advice\n",
    "\n",
    "- The course is linear but model development is not!\n",
    "   - Put together an ML pipeline using simple features and get a base score.\n",
    "   - Change one thing at a time in your pipeline and track how the score changes. \n",
    "      - keep changes that improve the score, discard changes that don't impact or reduce the score\n",
    "   - Keep track of your changes!\n",
    "- You cannot do too much EDA!\n",
    "- Always check if the model makes sense and the predictions are realistic - interpretability is key!\n",
    "- Carefully check outliers in regression and misclassified points in classification\n",
    "   - some not so obvious errors can be identified this way\n"
   ]
  },
  {
   "cell_type": "markdown",
   "metadata": {
    "slideshow": {
     "slide_type": "slide"
    }
   },
   "source": [
    "## What can go wrong?\n",
    "\n",
    "Issues with the data:\n",
    "   - not enough training data\n",
    "   - training data is not representative of the cases you want to generalize to\n",
    "   - poor quality (noisy) data\n",
    "   - too many irrelevant features\n",
    "\n",
    "Issues with the model:\n",
    "   - overfitting and underfitting: solved by cross-validation and hyperparameter tuning\n",
    "   - model is not right for the data: model is too simplistic or too complex"
   ]
  },
  {
   "cell_type": "markdown",
   "metadata": {
    "slideshow": {
     "slide_type": "slide"
    }
   },
   "source": [
    "## Ethical concerns in ML\n",
    "- ML models learn human biases\n",
    "   - who should get credit from the bank?\n",
    "   - student admissions\n",
    "   - employee hires\n",
    "   - court: who will likely relapse into criminal behavior? Influences the length of the sentence\n",
    "- if past decisions are biased (e.g., racist or sexist), the ML model will learn and propagate these biases\n",
    "   - ML conserves the status quo when human decisions are automatized\n"
   ]
  },
  {
   "cell_type": "markdown",
   "metadata": {
    "slideshow": {
     "slide_type": "slide"
    }
   },
   "source": [
    "# <center>Summary </center>\n",
    "### Now you can\n",
    "   - Describe the bias-variance tradeoff\n",
    "   - Summarize the main steps of the ML workflow\n"
   ]
  },
  {
   "cell_type": "markdown",
   "metadata": {
    "slideshow": {
     "slide_type": "notes"
    }
   },
   "source": [
    "## ML vs. statistics\n",
    "- Both work with data but have different goals."
   ]
  },
  {
   "cell_type": "markdown",
   "metadata": {
    "slideshow": {
     "slide_type": "notes"
    }
   },
   "source": [
    "### Statistics: your data (*x*) is a sample from an underlying distribution\n",
    "   - descriptive statistics: describe the properties of the sample *x* (e.g., mean and stdev)\n",
    "   - inferential statistics: infer the properties of the underlying distribution \n",
    "      - compare the sample (*x)* to another observed sample or to a synthetic sample drawn from an idealized model (*x_other*)\n",
    "      - null hypothesis (one example): there is no difference between the means or variances of the underlying distributions of the two samples\n",
    "      - statistical tests are used to quantify the sense in which the null can be proven false - **statistical significance**\n"
   ]
  },
  {
   "cell_type": "markdown",
   "metadata": {
    "slideshow": {
     "slide_type": "notes"
    }
   },
   "source": [
    "### Machine Learning: your data (*x*) is an input for a predictive model\n",
    "- forecast unobserved outcomes and future behavior\n",
    "- unsupervised ML: *x* is used to find structure in the data e.g., clusters and predict/decide to which cluster new points belong\n",
    "- supervised ML: x and output data y are used to train a model to predict *y_new* for new data *x_new*\n",
    "- **predictive power**"
   ]
  },
  {
   "cell_type": "markdown",
   "metadata": {
    "slideshow": {
     "slide_type": "notes"
    }
   },
   "source": [
    "## Note\n",
    "- statistical significance != predictive power\n",
    "- https://www.pnas.org/content/pnas/112/45/13892.full.pdf\n",
    "- a statistically significant correlation is not necessarily predictive\n"
   ]
  },
  {
   "cell_type": "code",
   "execution_count": 10,
   "metadata": {
    "slideshow": {
     "slide_type": "slide"
    }
   },
   "outputs": [],
   "source": [
    "import pandas as pd\n",
    "import numpy as np\n",
    "import sys\n",
    "from sklearn.model_selection import train_test_split\n",
    "from matplotlib import pylab as plt\n",
    "import matplotlib\n",
    "from matplotlib.colors import ListedColormap\n",
    "%matplotlib inline\n",
    "\n",
    "# scikit-learn code is reproducable is the random seed is fixed.\n",
    "np.random.seed(10)\n",
    "\n",
    "# 0) read in the data\n",
    "# our toy dataset, we don't know how it was generated.\n",
    "df = pd.read_csv('toy_data.csv')\n",
    "\n",
    "X = df[['x1','x2']].values\n",
    "y = df['y'].values\n",
    "\n",
    "# 1) preprocessing\n",
    "# not necessary, data is too simplistic"
   ]
  },
  {
   "cell_type": "code",
   "execution_count": 11,
   "metadata": {
    "slideshow": {
     "slide_type": "subslide"
    }
   },
   "outputs": [
    {
     "data": {
      "image/png": "[encoded data removed]",
      "text/plain": [
       "<Figure size 432x288 with 1 Axes>"
      ]
     },
     "metadata": {
      "needs_background": "light"
     },
     "output_type": "display_data"
    }
   ],
   "source": [
    "# 2) EDA\n",
    "\n",
    "plt.hist(X[y==0,0],alpha=0.4,color='r',label='x1 for class 0')\n",
    "plt.hist(X[y==1,0],alpha=0.4,color='b',label='x1 for class 1')\n",
    "plt.xlabel('x1')\n",
    "plt.ylabel('y')\n",
    "plt.title('toy dataset')\n",
    "plt.legend()\n",
    "plt.show()"
   ]
  },
  {
   "cell_type": "code",
   "execution_count": 12,
   "metadata": {
    "slideshow": {
     "slide_type": "subslide"
    }
   },
   "outputs": [
    {
     "data": {
      "image/png": "[encoded data removed]",
      "text/plain": [
       "<Figure size 432x288 with 1 Axes>"
      ]
     },
     "metadata": {
      "needs_background": "light"
     },
     "output_type": "display_data"
    }
   ],
   "source": [
    "plt.hist(X[y==0,1],alpha=0.4,color='r',label='x2 for class 0')\n",
    "plt.hist(X[y==1,1],alpha=0.4,color='b',label='x2 for class 1')\n",
    "plt.xlabel('x2')\n",
    "plt.ylabel('y')\n",
    "plt.title('toy dataset')\n",
    "plt.legend()\n",
    "plt.show()"
   ]
  },
  {
   "cell_type": "code",
   "execution_count": 13,
   "metadata": {
    "slideshow": {
     "slide_type": "subslide"
    }
   },
   "outputs": [
    {
     "data": {
      "image/png": "[encoded data removed]",
      "text/plain": [
       "<Figure size 432x288 with 1 Axes>"
      ]
     },
     "metadata": {
      "needs_background": "light"
     },
     "output_type": "display_data"
    }
   ],
   "source": [
    "plt.scatter(X[y==0,0],X[y==0,1],color='r',label='class 0',alpha=0.4)\n",
    "plt.scatter(X[y==1,0],X[y==1,1],color='b',label='class 1',alpha=0.4)\n",
    "plt.xlabel('x1')\n",
    "plt.ylabel('x2')\n",
    "plt.title('toy dataset')\n",
    "plt.gca().set_aspect('equal')\n",
    "plt.legend()\n",
    "plt.show()"
   ]
  },
  {
   "cell_type": "code",
   "execution_count": 14,
   "metadata": {
    "slideshow": {
     "slide_type": "subslide"
    }
   },
   "outputs": [
    {
     "name": "stdout",
     "output_type": "stream",
     "text": [
      "(240, 2)\n",
      "(80, 2)\n",
      "(80, 2)\n"
     ]
    }
   ],
   "source": [
    "# 3) dimensionality reduction\n",
    "# 4) feature engineering\n",
    "# not necessary, data is too simplistic\n",
    "\n",
    "# 5) select your evaluation metric\n",
    "from sklearn.metrics import accuracy_score\n",
    "\n",
    "# 6) put together the cross validation pipeline\n",
    "from sklearn.ensemble import RandomForestClassifier # our model of choice for this data\n",
    "\n",
    "# hyperparameter values to try for this model\n",
    "n_estimators = [1,3,10,30,100,300,1000]\n",
    "max_depth = [1,3,10,30,100]\n",
    "\n",
    "# split data into three parts (60-20-20%)\n",
    "X_rest, X_test, y_rest, y_test = train_test_split(X,y,test_size=0.2,train_size=0.8)\n",
    "X_train, X_CV, y_train, y_CV = train_test_split(X_rest,y_rest,test_size = 0.25,train_size =0.75)\n",
    "\n",
    "# check the split\n",
    "print(np.shape(X_train))\n",
    "print(np.shape(X_CV))\n",
    "print(np.shape(X_test))"
   ]
  },
  {
   "cell_type": "code",
   "execution_count": 15,
   "metadata": {
    "slideshow": {
     "slide_type": "subslide"
    }
   },
   "outputs": [],
   "source": [
    "# arrays for training and CV scores\n",
    "train_score = np.zeros([len(n_estimators),len(max_depth)])\n",
    "CV_score = np.zeros([len(n_estimators),len(max_depth)])\n",
    "\n",
    "# loop through the combinations of hyperparameters\n",
    "for n in range(len(n_estimators)):\n",
    "    for m in range(len(max_depth)):\n",
    "        # initialize the classifier\n",
    "        clf = RandomForestClassifier(n_estimators = n_estimators[n],max_depth=max_depth[m],random_state=10)\n",
    "        # fit the training data\n",
    "        clf.fit(X_train,y_train)\n",
    "        # predict the training data\n",
    "        y_p_train = clf.predict(X_train)\n",
    "        # predict the CV data\n",
    "        y_p_CV = clf.predict(X_CV)\n",
    "        \n",
    "        # measure classifier performance with accuracy: what fraction of points are correctly classified?\n",
    "        train_score[n,m] = accuracy_score(y_train,y_p_train)\n",
    "        CV_score[n,m] = accuracy_score(y_CV,y_p_CV)"
   ]
  },
  {
   "cell_type": "code",
   "execution_count": 16,
   "metadata": {
    "slideshow": {
     "slide_type": "subslide"
    }
   },
   "outputs": [
    {
     "data": {
      "image/png": "[encoded data removed]",
      "text/plain": [
       "<Figure size 720x360 with 4 Axes>"
      ]
     },
     "metadata": {
      "needs_background": "light"
     },
     "output_type": "display_data"
    }
   ],
   "source": [
    "# plot the train and CV scores\n",
    "plt.figure(figsize=(10,5))\n",
    "\n",
    "plt.subplot(1,2,1)\n",
    "plt.imshow(train_score,origin='lower',vmin=0.7,vmax=1e0)\n",
    "plt.xticks(np.arange(len(max_depth)),max_depth)\n",
    "plt.yticks(np.arange(len(n_estimators)),n_estimators)\n",
    "plt.xlabel('max_depth')\n",
    "plt.ylabel('nr. trees')\n",
    "plt.title('train accuracy')\n",
    "plt.colorbar(label='accuracy score')\n",
    "\n",
    "plt.subplot(1,2,2)\n",
    "plt.imshow(CV_score,origin='lower',vmin=0.7,vmax=1e0)\n",
    "plt.xticks(np.arange(len(max_depth)),max_depth)\n",
    "plt.yticks(np.arange(len(n_estimators)),n_estimators)\n",
    "plt.xlabel('max_depth')\n",
    "plt.ylabel('nr. trees')\n",
    "plt.title('CV accuracy')\n",
    "plt.colorbar(label='accuracy score')\n",
    "\n",
    "plt.tight_layout()\n",
    "plt.savefig('ml_pipeline.jpg',dpi=150)\n",
    "\n",
    "plt.show()"
   ]
  },
  {
   "cell_type": "markdown",
   "metadata": {
    "slideshow": {
     "slide_type": "subslide"
    }
   },
   "source": [
    "<center><img src=\"ml_pipeline.jpg\" width=\"800\"></center>"
   ]
  },
  {
   "cell_type": "code",
   "execution_count": 17,
   "metadata": {
    "slideshow": {
     "slide_type": "subslide"
    }
   },
   "outputs": [
    {
     "name": "stdout",
     "output_type": "stream",
     "text": [
      "0.95\n"
     ]
    }
   ],
   "source": [
    "# initialize the best classifier\n",
    "clf = RandomForestClassifier(n_estimators=10,max_depth=10,random_state=10)\n",
    "# fit the training data\n",
    "clf.fit(X_train,y_train)\n",
    "# predict the test\n",
    "y_pred = clf.predict(X_test)\n",
    "# report the accuracy score of the test set\n",
    "print(accuracy_score(y_test,y_pred))\n",
    "\n",
    "# 7) train multiple models\n",
    "# we won't do it this time\n"
   ]
  },
  {
   "cell_type": "code",
   "execution_count": 18,
   "metadata": {
    "slideshow": {
     "slide_type": "subslide"
    }
   },
   "outputs": [
    {
     "data": {
      "image/png": "[encoded data removed]",
      "text/plain": [
       "<Figure size 432x288 with 2 Axes>"
      ]
     },
     "metadata": {
      "needs_background": "light"
     },
     "output_type": "display_data"
    }
   ],
   "source": [
    "# 8) Interpret your model\n",
    "# a simple model like this can be interpreted by plotting the decision boundary\n",
    "# doesn't work for datasets with more than 2 features.\n",
    "cm = plt.cm.RdBu\n",
    "cm_bright = ListedColormap(['#FF0000', '#0000FF'])\n",
    "h = .01  # step size in the mesh\n",
    "x_min, x_max = X[:, 0].min() - .5, X[:, 0].max() + .5\n",
    "y_min, y_max = X[:, 1].min() - .5, X[:, 1].max() + .5\n",
    "xx, yy = np.meshgrid(np.arange(x_min, x_max, h),\n",
    "                     np.arange(y_min, y_max, h))\n",
    "\n",
    "# Plot the decision boundary. For that, we will assign a color to each\n",
    "# point in the mesh [x_min, m_max]x[y_min, y_max].\n",
    "Z = clf.predict_proba(np.c_[xx.ravel(), yy.ravel()])[:, 1]\n",
    "# Put the result into a color plot\n",
    "Z = Z.reshape(xx.shape)\n",
    "plt.contour(xx, yy, Z,vmin=0,vmax=1,levels=[0.5],colors=['k'])\n",
    "plt.contourf(xx, yy, Z, cmap=cm, alpha=.8,vmin=0,vmax=1,levels=np.arange(0,1.01,0.01))\n",
    "plt.colorbar(ticks=[0,0.2,0.4,0.6,0.8,1],label='predicted probability')\n",
    "plt.scatter(X_train[y_train==0,0],X_train[y_train==0,1],color='r',label='class 0')\n",
    "plt.scatter(X_train[y_train==1,0],X_train[y_train==1,1],color='b',label='class 1')\n",
    "plt.xlabel('x1')\n",
    "plt.ylabel('x2')\n",
    "plt.title('the decision boundary')\n",
    "plt.gca().set_aspect('equal')\n",
    "plt.savefig('decision_boundary.jpg',dpi=150)\n",
    "plt.show()"
   ]
  },
  {
   "cell_type": "markdown",
   "metadata": {
    "slideshow": {
     "slide_type": "subslide"
    }
   },
   "source": [
    "<center><img src=\"decision_boundary.jpg\" width=\"800\"></center>"
   ]
  },
  {
   "cell_type": "code",
   "execution_count": null,
   "metadata": {},
   "outputs": [],
   "source": []
  }
 ],
 "metadata": {
  "celltoolbar": "Slideshow",
  "kernelspec": {
   "display_name": "Python 3",
   "language": "python",
   "name": "python3"
  },
  "language_info": {
   "codemirror_mode": {
    "name": "ipython",
    "version": 3
   },
   "file_extension": ".py",
   "mimetype": "text/x-python",
   "name": "python",
   "nbconvert_exporter": "python",
   "pygments_lexer": "ipython3",
   "version": "3.6.7"
  }
 },
 "nbformat": 4,
 "nbformat_minor": 2
}
